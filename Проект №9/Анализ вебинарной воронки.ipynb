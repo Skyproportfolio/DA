{
 "cells": [
  {
   "cell_type": "code",
   "execution_count": 1,
   "id": "3f206812",
   "metadata": {},
   "outputs": [],
   "source": [
    "import pandas as pd\n",
    "import matplotlib.pyplot as plt"
   ]
  },
  {
   "cell_type": "code",
   "execution_count": 2,
   "id": "ea930915",
   "metadata": {},
   "outputs": [],
   "source": [
    "######## Импортируем csv-файлы\n",
    "\n",
    "logs = pd.read_csv('C:/Users/D.Elistratov/Documents/AD3.0/Финальные кейсы/Кейс 4. Маркетинг и вебинары/logs.csv', sep=';')\n",
    "clients = pd.read_csv('C:/Users/D.Elistratov/Documents/AD3.0/Финальные кейсы/Кейс 4. Маркетинг и вебинары/clients.csv', sep=';')\n",
    "vk_reg = pd.read_csv('C:/Users/D.Elistratov/Documents/AD3.0/Финальные кейсы/Кейс 4. Маркетинг и вебинары/vk_reg.csv', sep=';')\n",
    "tg_reg = pd.read_csv('C:/Users/D.Elistratov/Documents/AD3.0/Финальные кейсы/Кейс 4. Маркетинг и вебинары/tg_reg.csv', sep=';')\n",
    "inst_reg = pd.read_csv('C:/Users/D.Elistratov/Documents/AD3.0/Финальные кейсы/Кейс 4. Маркетинг и вебинары/inst_reg.csv', sep=';')\n",
    "fb_reg = pd.read_csv('C:/Users/D.Elistratov/Documents/AD3.0/Финальные кейсы/Кейс 4. Маркетинг и вебинары/fb_reg.csv', sep=';')\n",
    "email_reg = pd.read_csv('C:/Users/D.Elistratov/Documents/AD3.0/Финальные кейсы/Кейс 4. Маркетинг и вебинары/email_reg.csv', sep=';')"
   ]
  },
  {
   "cell_type": "code",
   "execution_count": 3,
   "id": "c3b22c25",
   "metadata": {},
   "outputs": [],
   "source": [
    "######## Приводим к типу данных \n",
    "\n",
    "logs['t_left'] = pd.to_datetime(logs['t_left'])\n",
    "logs['t_came'] = pd.to_datetime(logs['t_came'])"
   ]
  },
  {
   "cell_type": "code",
   "execution_count": 4,
   "id": "1073cd12",
   "metadata": {},
   "outputs": [],
   "source": [
    "######## Группируем и проставляем лейблы для различных источников привлечения\n",
    "\n",
    "tg_reg_gr = tg_reg.groupby('public_label').count()['time_reg'].reset_index()\n",
    "tg_reg_gr['label'] = 'telegram'\n",
    "tg_reg_gr['source_fin'] = tg_reg_gr['label'] + \"_\" + tg_reg_gr['public_label']\n",
    "\n",
    "inst_reg_gr = inst_reg.groupby('blogger_label').count()['time_reg'].reset_index()\n",
    "inst_reg_gr['label'] = 'instagram'\n",
    "inst_reg_gr['source_fin'] = inst_reg_gr['label'] + \"_\" + inst_reg_gr['blogger_label']\n",
    "\n",
    "fb_reg_gr = fb_reg.groupby('source_label').count()['time_reg'].reset_index()\n",
    "fb_reg_gr['label'] = 'facebook'\n",
    "fb_reg_gr['source_fin'] = fb_reg_gr['label'] + \"_\" + fb_reg_gr['source_label']\n",
    "\n",
    "email_reg_gr = email_reg.groupby('domain_label').count()['time_reg'].reset_index()\n",
    "email_reg_gr['label'] = 'email'\n",
    "email_reg_gr['source_fin'] = email_reg_gr['label'] + \"_\" + email_reg_gr['domain_label']\n",
    "\n",
    "vk_reg_gr = vk_reg.groupby('group_label').count()['time_reg'].reset_index()\n",
    "vk_reg_gr['label'] = 'vkontakte'\n",
    "vk_reg_gr['source_fin'] = vk_reg_gr['label'] + \"_\" + vk_reg_gr['group_label']"
   ]
  },
  {
   "cell_type": "code",
   "execution_count": 5,
   "id": "bd19076c",
   "metadata": {},
   "outputs": [],
   "source": [
    "######## UNION агрегаций каналов привлечения\n",
    "\n",
    "reg_agg = pd.concat([tg_reg_gr,inst_reg_gr,fb_reg_gr,email_reg_gr,vk_reg_gr])[['label','source_fin','time_reg']]"
   ]
  },
  {
   "cell_type": "code",
   "execution_count": 6,
   "id": "86ee829f",
   "metadata": {},
   "outputs": [],
   "source": [
    "######## парсим поле source\n",
    "\n",
    "clients['source_mjr'] = clients['source'].str.split('=').str[1].str.split('%').str[0]\n",
    "clients['source_mnr'] = clients['source'].str.split('=').str[2].str.split('%').str[0].str[:-1]\n",
    "\n",
    "clients['source_fin'] = clients['source_mjr'] + \"_\" + clients['source_mnr']"
   ]
  },
  {
   "cell_type": "code",
   "execution_count": 7,
   "id": "8b62090a",
   "metadata": {},
   "outputs": [],
   "source": [
    "clients_gr = clients.groupby('source_fin').count()['id_user'].reset_index()"
   ]
  },
  {
   "cell_type": "code",
   "execution_count": 8,
   "id": "677ab130",
   "metadata": {},
   "outputs": [],
   "source": [
    "df = clients_gr.merge(reg_agg, on = 'source_fin')\n",
    "\n",
    "df = df.rename(columns = {'id_user':'cnt_come', 'time_reg':'cnt_reg'})[['label','source_fin','cnt_reg','cnt_come']]\n",
    "df['reg2come'] = df['cnt_come'] / df['cnt_reg']"
   ]
  },
  {
   "cell_type": "code",
   "execution_count": 9,
   "id": "19e34e02",
   "metadata": {},
   "outputs": [
    {
     "data": {
      "text/html": [
       "<div>\n",
       "<style scoped>\n",
       "    .dataframe tbody tr th:only-of-type {\n",
       "        vertical-align: middle;\n",
       "    }\n",
       "\n",
       "    .dataframe tbody tr th {\n",
       "        vertical-align: top;\n",
       "    }\n",
       "\n",
       "    .dataframe thead th {\n",
       "        text-align: right;\n",
       "    }\n",
       "</style>\n",
       "<table border=\"1\" class=\"dataframe\">\n",
       "  <thead>\n",
       "    <tr style=\"text-align: right;\">\n",
       "      <th></th>\n",
       "      <th>label</th>\n",
       "      <th>source_fin</th>\n",
       "      <th>cnt_reg</th>\n",
       "      <th>cnt_come</th>\n",
       "      <th>reg2come</th>\n",
       "    </tr>\n",
       "  </thead>\n",
       "  <tbody>\n",
       "    <tr>\n",
       "      <th>0</th>\n",
       "      <td>email</td>\n",
       "      <td>email_gmail</td>\n",
       "      <td>1170</td>\n",
       "      <td>65</td>\n",
       "      <td>0.055556</td>\n",
       "    </tr>\n",
       "    <tr>\n",
       "      <th>1</th>\n",
       "      <td>email</td>\n",
       "      <td>email_outlook</td>\n",
       "      <td>1000</td>\n",
       "      <td>39</td>\n",
       "      <td>0.039000</td>\n",
       "    </tr>\n",
       "    <tr>\n",
       "      <th>2</th>\n",
       "      <td>email</td>\n",
       "      <td>email_yandex</td>\n",
       "      <td>958</td>\n",
       "      <td>80</td>\n",
       "      <td>0.083507</td>\n",
       "    </tr>\n",
       "    <tr>\n",
       "      <th>3</th>\n",
       "      <td>facebook</td>\n",
       "      <td>facebook_source1</td>\n",
       "      <td>671</td>\n",
       "      <td>47</td>\n",
       "      <td>0.070045</td>\n",
       "    </tr>\n",
       "    <tr>\n",
       "      <th>4</th>\n",
       "      <td>facebook</td>\n",
       "      <td>facebook_source2</td>\n",
       "      <td>1028</td>\n",
       "      <td>100</td>\n",
       "      <td>0.097276</td>\n",
       "    </tr>\n",
       "    <tr>\n",
       "      <th>5</th>\n",
       "      <td>facebook</td>\n",
       "      <td>facebook_source3</td>\n",
       "      <td>964</td>\n",
       "      <td>91</td>\n",
       "      <td>0.094398</td>\n",
       "    </tr>\n",
       "    <tr>\n",
       "      <th>6</th>\n",
       "      <td>instagram</td>\n",
       "      <td>instagram_blogger1</td>\n",
       "      <td>1611</td>\n",
       "      <td>157</td>\n",
       "      <td>0.097455</td>\n",
       "    </tr>\n",
       "    <tr>\n",
       "      <th>7</th>\n",
       "      <td>instagram</td>\n",
       "      <td>instagram_blogger2</td>\n",
       "      <td>841</td>\n",
       "      <td>90</td>\n",
       "      <td>0.107015</td>\n",
       "    </tr>\n",
       "    <tr>\n",
       "      <th>8</th>\n",
       "      <td>instagram</td>\n",
       "      <td>instagram_blogger3</td>\n",
       "      <td>743</td>\n",
       "      <td>75</td>\n",
       "      <td>0.100942</td>\n",
       "    </tr>\n",
       "    <tr>\n",
       "      <th>9</th>\n",
       "      <td>instagram</td>\n",
       "      <td>instagram_blogger4</td>\n",
       "      <td>2060</td>\n",
       "      <td>67</td>\n",
       "      <td>0.032524</td>\n",
       "    </tr>\n",
       "    <tr>\n",
       "      <th>10</th>\n",
       "      <td>telegram</td>\n",
       "      <td>telegram_public1</td>\n",
       "      <td>1440</td>\n",
       "      <td>145</td>\n",
       "      <td>0.100694</td>\n",
       "    </tr>\n",
       "    <tr>\n",
       "      <th>11</th>\n",
       "      <td>telegram</td>\n",
       "      <td>telegram_public2</td>\n",
       "      <td>869</td>\n",
       "      <td>106</td>\n",
       "      <td>0.121979</td>\n",
       "    </tr>\n",
       "    <tr>\n",
       "      <th>12</th>\n",
       "      <td>telegram</td>\n",
       "      <td>telegram_public3</td>\n",
       "      <td>770</td>\n",
       "      <td>62</td>\n",
       "      <td>0.080519</td>\n",
       "    </tr>\n",
       "    <tr>\n",
       "      <th>13</th>\n",
       "      <td>vkontakte</td>\n",
       "      <td>vkontakte_group1</td>\n",
       "      <td>605</td>\n",
       "      <td>61</td>\n",
       "      <td>0.100826</td>\n",
       "    </tr>\n",
       "    <tr>\n",
       "      <th>14</th>\n",
       "      <td>vkontakte</td>\n",
       "      <td>vkontakte_group2</td>\n",
       "      <td>627</td>\n",
       "      <td>52</td>\n",
       "      <td>0.082935</td>\n",
       "    </tr>\n",
       "    <tr>\n",
       "      <th>15</th>\n",
       "      <td>vkontakte</td>\n",
       "      <td>vkontakte_group3</td>\n",
       "      <td>499</td>\n",
       "      <td>20</td>\n",
       "      <td>0.040080</td>\n",
       "    </tr>\n",
       "  </tbody>\n",
       "</table>\n",
       "</div>"
      ],
      "text/plain": [
       "        label          source_fin  cnt_reg  cnt_come  reg2come\n",
       "0       email         email_gmail     1170        65  0.055556\n",
       "1       email       email_outlook     1000        39  0.039000\n",
       "2       email        email_yandex      958        80  0.083507\n",
       "3    facebook    facebook_source1      671        47  0.070045\n",
       "4    facebook    facebook_source2     1028       100  0.097276\n",
       "5    facebook    facebook_source3      964        91  0.094398\n",
       "6   instagram  instagram_blogger1     1611       157  0.097455\n",
       "7   instagram  instagram_blogger2      841        90  0.107015\n",
       "8   instagram  instagram_blogger3      743        75  0.100942\n",
       "9   instagram  instagram_blogger4     2060        67  0.032524\n",
       "10   telegram    telegram_public1     1440       145  0.100694\n",
       "11   telegram    telegram_public2      869       106  0.121979\n",
       "12   telegram    telegram_public3      770        62  0.080519\n",
       "13  vkontakte    vkontakte_group1      605        61  0.100826\n",
       "14  vkontakte    vkontakte_group2      627        52  0.082935\n",
       "15  vkontakte    vkontakte_group3      499        20  0.040080"
      ]
     },
     "execution_count": 9,
     "metadata": {},
     "output_type": "execute_result"
    }
   ],
   "source": [
    "df"
   ]
  },
  {
   "cell_type": "code",
   "execution_count": 10,
   "id": "afc5a3d9",
   "metadata": {},
   "outputs": [],
   "source": [
    "######## Исследуем время входа и выхода с вебинара\n",
    "\n",
    "logs['length'] = logs['t_left'] - logs['t_came']\n",
    "\n",
    "logs_dyn_exit = logs.groupby('t_left').count()['id_user'].reset_index()\n",
    "logs_dyn_entr = logs.groupby('t_came').count()['id_user'].reset_index()"
   ]
  },
  {
   "cell_type": "code",
   "execution_count": 11,
   "id": "7e41223d",
   "metadata": {},
   "outputs": [
    {
     "data": {
      "image/png": "[encoded data removed]",
      "text/plain": [
       "<Figure size 432x288 with 1 Axes>"
      ]
     },
     "metadata": {
      "needs_background": "light"
     },
     "output_type": "display_data"
    }
   ],
   "source": [
    "plt.plot(logs_dyn_exit['t_left'], logs_dyn_exit['id_user'])\n",
    "plt.xticks(rotation = 45)\n",
    "plt.show()"
   ]
  },
  {
   "cell_type": "code",
   "execution_count": 12,
   "id": "5fd9e9ab",
   "metadata": {},
   "outputs": [
    {
     "data": {
      "image/png": "[encoded data removed]",
      "text/plain": [
       "<Figure size 432x288 with 1 Axes>"
      ]
     },
     "metadata": {
      "needs_background": "light"
     },
     "output_type": "display_data"
    }
   ],
   "source": [
    "plt.plot(logs_dyn_entr['t_came'], logs_dyn_entr['id_user'])\n",
    "plt.xticks(rotation = 45)\n",
    "plt.show()"
   ]
  },
  {
   "cell_type": "code",
   "execution_count": null,
   "id": "c3c02f44",
   "metadata": {},
   "outputs": [],
   "source": []
  }
 ],
 "metadata": {
  "kernelspec": {
   "display_name": "Python 3",
   "language": "python",
   "name": "python3"
  },
  "language_info": {
   "codemirror_mode": {
    "name": "ipython",
    "version": 3
   },
   "file_extension": ".py",
   "mimetype": "text/x-python",
   "name": "python",
   "nbconvert_exporter": "python",
   "pygments_lexer": "ipython3",
   "version": "3.8.8"
  }
 },
 "nbformat": 4,
 "nbformat_minor": 5
}
