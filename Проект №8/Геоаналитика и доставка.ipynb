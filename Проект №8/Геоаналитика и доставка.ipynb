{
 "cells": [
  {
   "cell_type": "code",
   "execution_count": 1,
   "id": "1051bf36",
   "metadata": {},
   "outputs": [],
   "source": [
    "import pandas as pd\n",
    "import matplotlib.pyplot as plt\n",
    "import datetime as dt\n",
    "\n",
    "import h3"
   ]
  },
  {
   "cell_type": "markdown",
   "id": "a8f2ed99",
   "metadata": {},
   "source": [
    "#### Adding hexagons"
   ]
  },
  {
   "cell_type": "code",
   "execution_count": 47,
   "id": "7661ec18",
   "metadata": {},
   "outputs": [],
   "source": [
    "df = pd.read_csv('C:/Users/D.Elistratov/Documents/AD3.0/Финальные кейсы/Кейс 3. Доставка/geodata.csv', sep=';')"
   ]
  },
  {
   "cell_type": "code",
   "execution_count": 48,
   "id": "c016c93b",
   "metadata": {},
   "outputs": [],
   "source": [
    "df[\"hex_id\"] = df.apply(lambda row: h3.geo_to_h3(row[\"latitude\"], row[\"longitude\"], resolution=8), axis = 1)"
   ]
  },
  {
   "cell_type": "code",
   "execution_count": 49,
   "id": "bb862746",
   "metadata": {},
   "outputs": [],
   "source": [
    "df['delivery_time'] = pd.to_datetime(df['delivery_time'], format=\"%d.%m.%y %H:%M\")\n",
    "df['order_time'] = pd.to_datetime(df['order_time'], format=\"%d.%m.%y %H:%M\")\n",
    "\n",
    "df['order_date'] = df['order_time'].dt.day"
   ]
  },
  {
   "cell_type": "markdown",
   "id": "ecb43c8d",
   "metadata": {},
   "source": [
    "#### Day by day dynamics"
   ]
  },
  {
   "cell_type": "code",
   "execution_count": 50,
   "id": "945a17fa",
   "metadata": {},
   "outputs": [],
   "source": [
    "dfd = df.groupby('order_date').count()[['id_order','delivery_time']].reset_index().sort_values('order_date', ascending=False)\n",
    "dfd['conv'] = dfd['delivery_time'] / dfd['id_order']"
   ]
  },
  {
   "cell_type": "code",
   "execution_count": 51,
   "id": "61936c0e",
   "metadata": {
    "scrolled": true
   },
   "outputs": [
    {
     "data": {
      "text/html": [
       "<div>\n",
       "<style scoped>\n",
       "    .dataframe tbody tr th:only-of-type {\n",
       "        vertical-align: middle;\n",
       "    }\n",
       "\n",
       "    .dataframe tbody tr th {\n",
       "        vertical-align: top;\n",
       "    }\n",
       "\n",
       "    .dataframe thead th {\n",
       "        text-align: right;\n",
       "    }\n",
       "</style>\n",
       "<table border=\"1\" class=\"dataframe\">\n",
       "  <thead>\n",
       "    <tr style=\"text-align: right;\">\n",
       "      <th></th>\n",
       "      <th>order_date</th>\n",
       "      <th>id_order</th>\n",
       "      <th>delivery_time</th>\n",
       "      <th>conv</th>\n",
       "    </tr>\n",
       "  </thead>\n",
       "  <tbody>\n",
       "    <tr>\n",
       "      <th>29</th>\n",
       "      <td>30</td>\n",
       "      <td>109</td>\n",
       "      <td>73</td>\n",
       "      <td>0.669725</td>\n",
       "    </tr>\n",
       "    <tr>\n",
       "      <th>28</th>\n",
       "      <td>29</td>\n",
       "      <td>121</td>\n",
       "      <td>90</td>\n",
       "      <td>0.743802</td>\n",
       "    </tr>\n",
       "    <tr>\n",
       "      <th>27</th>\n",
       "      <td>28</td>\n",
       "      <td>107</td>\n",
       "      <td>79</td>\n",
       "      <td>0.738318</td>\n",
       "    </tr>\n",
       "    <tr>\n",
       "      <th>26</th>\n",
       "      <td>27</td>\n",
       "      <td>124</td>\n",
       "      <td>89</td>\n",
       "      <td>0.717742</td>\n",
       "    </tr>\n",
       "    <tr>\n",
       "      <th>25</th>\n",
       "      <td>26</td>\n",
       "      <td>107</td>\n",
       "      <td>73</td>\n",
       "      <td>0.682243</td>\n",
       "    </tr>\n",
       "  </tbody>\n",
       "</table>\n",
       "</div>"
      ],
      "text/plain": [
       "    order_date  id_order  delivery_time      conv\n",
       "29          30       109             73  0.669725\n",
       "28          29       121             90  0.743802\n",
       "27          28       107             79  0.738318\n",
       "26          27       124             89  0.717742\n",
       "25          26       107             73  0.682243"
      ]
     },
     "execution_count": 51,
     "metadata": {},
     "output_type": "execute_result"
    }
   ],
   "source": [
    "dfd.head(5)"
   ]
  },
  {
   "cell_type": "code",
   "execution_count": 52,
   "id": "5524b7d9",
   "metadata": {},
   "outputs": [
    {
     "data": {
      "text/plain": [
       "[<matplotlib.lines.Line2D at 0x208b2198520>]"
      ]
     },
     "execution_count": 52,
     "metadata": {},
     "output_type": "execute_result"
    },
    {
     "data": {
      "image/png": "[encoded data removed]",
      "text/plain": [
       "<Figure size 432x288 with 1 Axes>"
      ]
     },
     "metadata": {
      "needs_background": "light"
     },
     "output_type": "display_data"
    }
   ],
   "source": [
    "plt.plot(dfd['order_date'],dfd['conv'])"
   ]
  },
  {
   "cell_type": "markdown",
   "id": "13758a61",
   "metadata": {},
   "source": [
    "#### Grouping by hexagons"
   ]
  },
  {
   "cell_type": "code",
   "execution_count": 53,
   "id": "d879e7c0",
   "metadata": {},
   "outputs": [],
   "source": [
    "dfg = df.groupby('hex_id').count()[['id_order','delivery_time']].reset_index().sort_values('id_order', ascending=False)"
   ]
  },
  {
   "cell_type": "code",
   "execution_count": 54,
   "id": "ee123533",
   "metadata": {},
   "outputs": [],
   "source": [
    "dfg['conv'] = dfg['delivery_time'] / dfg['id_order']"
   ]
  },
  {
   "cell_type": "markdown",
   "id": "63b84d5b",
   "metadata": {},
   "source": [
    "#### Weak hexagons"
   ]
  },
  {
   "cell_type": "code",
   "execution_count": 55,
   "id": "e4501cb2",
   "metadata": {},
   "outputs": [
    {
     "data": {
      "text/html": [
       "<div>\n",
       "<style scoped>\n",
       "    .dataframe tbody tr th:only-of-type {\n",
       "        vertical-align: middle;\n",
       "    }\n",
       "\n",
       "    .dataframe tbody tr th {\n",
       "        vertical-align: top;\n",
       "    }\n",
       "\n",
       "    .dataframe thead th {\n",
       "        text-align: right;\n",
       "    }\n",
       "</style>\n",
       "<table border=\"1\" class=\"dataframe\">\n",
       "  <thead>\n",
       "    <tr style=\"text-align: right;\">\n",
       "      <th></th>\n",
       "      <th>hex_id</th>\n",
       "      <th>id_order</th>\n",
       "      <th>delivery_time</th>\n",
       "      <th>conv</th>\n",
       "    </tr>\n",
       "  </thead>\n",
       "  <tbody>\n",
       "    <tr>\n",
       "      <th>0</th>\n",
       "      <td>0</td>\n",
       "      <td>298</td>\n",
       "      <td>254</td>\n",
       "      <td>0.852349</td>\n",
       "    </tr>\n",
       "    <tr>\n",
       "      <th>107</th>\n",
       "      <td>8811aa7abbfffff</td>\n",
       "      <td>116</td>\n",
       "      <td>42</td>\n",
       "      <td>0.362069</td>\n",
       "    </tr>\n",
       "    <tr>\n",
       "      <th>83</th>\n",
       "      <td>8811aa7a85fffff</td>\n",
       "      <td>113</td>\n",
       "      <td>78</td>\n",
       "      <td>0.690265</td>\n",
       "    </tr>\n",
       "    <tr>\n",
       "      <th>82</th>\n",
       "      <td>8811aa7a83fffff</td>\n",
       "      <td>82</td>\n",
       "      <td>33</td>\n",
       "      <td>0.402439</td>\n",
       "    </tr>\n",
       "    <tr>\n",
       "      <th>81</th>\n",
       "      <td>8811aa7a81fffff</td>\n",
       "      <td>81</td>\n",
       "      <td>57</td>\n",
       "      <td>0.703704</td>\n",
       "    </tr>\n",
       "    <tr>\n",
       "      <th>84</th>\n",
       "      <td>8811aa7a87fffff</td>\n",
       "      <td>74</td>\n",
       "      <td>31</td>\n",
       "      <td>0.418919</td>\n",
       "    </tr>\n",
       "    <tr>\n",
       "      <th>99</th>\n",
       "      <td>8811aa7aa9fffff</td>\n",
       "      <td>72</td>\n",
       "      <td>62</td>\n",
       "      <td>0.861111</td>\n",
       "    </tr>\n",
       "    <tr>\n",
       "      <th>90</th>\n",
       "      <td>8811aa7a95fffff</td>\n",
       "      <td>72</td>\n",
       "      <td>53</td>\n",
       "      <td>0.736111</td>\n",
       "    </tr>\n",
       "    <tr>\n",
       "      <th>29</th>\n",
       "      <td>8811aa781bfffff</td>\n",
       "      <td>71</td>\n",
       "      <td>52</td>\n",
       "      <td>0.732394</td>\n",
       "    </tr>\n",
       "    <tr>\n",
       "      <th>54</th>\n",
       "      <td>8811aa78c9fffff</td>\n",
       "      <td>70</td>\n",
       "      <td>22</td>\n",
       "      <td>0.314286</td>\n",
       "    </tr>\n",
       "  </tbody>\n",
       "</table>\n",
       "</div>"
      ],
      "text/plain": [
       "              hex_id  id_order  delivery_time      conv\n",
       "0                  0       298            254  0.852349\n",
       "107  8811aa7abbfffff       116             42  0.362069\n",
       "83   8811aa7a85fffff       113             78  0.690265\n",
       "82   8811aa7a83fffff        82             33  0.402439\n",
       "81   8811aa7a81fffff        81             57  0.703704\n",
       "84   8811aa7a87fffff        74             31  0.418919\n",
       "99   8811aa7aa9fffff        72             62  0.861111\n",
       "90   8811aa7a95fffff        72             53  0.736111\n",
       "29   8811aa781bfffff        71             52  0.732394\n",
       "54   8811aa78c9fffff        70             22  0.314286"
      ]
     },
     "execution_count": 55,
     "metadata": {},
     "output_type": "execute_result"
    }
   ],
   "source": [
    "dfg[dfg['id_order']>20].sort_values('id_order', ascending = False).head(10)"
   ]
  },
  {
   "cell_type": "code",
   "execution_count": 56,
   "id": "27768a03",
   "metadata": {},
   "outputs": [
    {
     "data": {
      "text/plain": [
       "172"
      ]
     },
     "execution_count": 56,
     "metadata": {},
     "output_type": "execute_result"
    }
   ],
   "source": [
    "######  8811aa7abbfffff\n",
    "######  8811aa7a83fffff\n",
    "######  8811aa7a87fffff\n",
    "######  8811aa78c9fffff\n",
    "\n",
    "hexs = ['8811aa7abbfffff','8811aa7a83fffff', '8811aa7a87fffff', '8811aa78c9fffff']\n",
    "\n",
    "len(df[(df['hex_id'].isin(hexs)) & (df['order_time']>='2022-06-15')])\n",
    "\n",
    "#### 8811aa7abbfffff - Сухаревская - Тургеневская\n",
    "#### Чеховская\n",
    "#### Охотный ряд\n",
    "#### Новокузнецкая"
   ]
  },
  {
   "cell_type": "code",
   "execution_count": 58,
   "id": "3ae6b18c",
   "metadata": {},
   "outputs": [],
   "source": [
    "#df[(df['hex_id'].isin(hexs)) & (df['order_time']>='2022-06-15')]['id_order'].to_csv('C:/Users/D.Elistratov/Documents/AD3.0/Финальные кейсы/Кейс 3. Доставка/geodata2.csv', sep=';')"
   ]
  },
  {
   "cell_type": "code",
   "execution_count": 60,
   "id": "2ae8f568",
   "metadata": {
    "scrolled": true
   },
   "outputs": [
    {
     "name": "stdout",
     "output_type": "stream",
     "text": [
      "8811aa7abbfffff\n",
      "    order_date  order_time  delivery_time      conv\n",
      "0            1           2              2  1.000000\n",
      "1            2           5              4  0.800000\n",
      "2            3           3              3  1.000000\n",
      "3            4           4              1  0.250000\n",
      "4            5           4              4  1.000000\n",
      "5            6           3              2  0.666667\n",
      "6            7           4              3  0.750000\n",
      "7            8           4              3  0.750000\n",
      "8            9           5              4  0.800000\n",
      "9           10           4              2  0.500000\n",
      "10          11           4              2  0.500000\n",
      "11          12           4              3  0.750000\n",
      "12          13           8              4  0.500000\n",
      "13          14           7              5  0.714286\n",
      "14          15           3              0  0.000000\n",
      "15          16           2              0  0.000000\n",
      "16          17           7              0  0.000000\n",
      "17          18           5              0  0.000000\n",
      "18          19           4              0  0.000000\n",
      "19          20           4              0  0.000000\n",
      "20          21           2              0  0.000000\n",
      "21          22           1              0  0.000000\n",
      "22          23           5              0  0.000000\n",
      "23          24           1              0  0.000000\n",
      "24          25           3              0  0.000000\n",
      "25          26           1              0  0.000000\n",
      "26          27           5              0  0.000000\n",
      "27          28           2              0  0.000000\n",
      "28          29           2              0  0.000000\n",
      "29          30           8              0  0.000000\n",
      "8811aa7a83fffff\n",
      "    order_date  order_time  delivery_time      conv\n",
      "0            1           3              3  1.000000\n",
      "1            2           5              5  1.000000\n",
      "2            4           4              4  1.000000\n",
      "3            6           3              2  0.666667\n",
      "4            7           2              2  1.000000\n",
      "5            8           5              4  0.800000\n",
      "6            9           2              2  1.000000\n",
      "7           10           1              0  0.000000\n",
      "8           11           4              2  0.500000\n",
      "9           12           7              6  0.857143\n",
      "10          13           2              2  1.000000\n",
      "11          14           1              1  1.000000\n",
      "12          15           2              0  0.000000\n",
      "13          16           2              0  0.000000\n",
      "14          17           5              0  0.000000\n",
      "15          18           6              0  0.000000\n",
      "16          19           7              0  0.000000\n",
      "17          20           2              0  0.000000\n",
      "18          22           2              0  0.000000\n",
      "19          23           1              0  0.000000\n",
      "20          24           4              0  0.000000\n",
      "21          25           1              0  0.000000\n",
      "22          26           4              0  0.000000\n",
      "23          27           1              0  0.000000\n",
      "24          28           3              0  0.000000\n",
      "25          29           1              0  0.000000\n",
      "26          30           2              0  0.000000\n",
      "8811aa7a87fffff\n",
      "    order_date  order_time  delivery_time      conv\n",
      "0            1           3              2  0.666667\n",
      "1            2           3              2  0.666667\n",
      "2            3           4              4  1.000000\n",
      "3            4           2              2  1.000000\n",
      "4            6           3              2  0.666667\n",
      "5            7           2              1  0.500000\n",
      "6            8           2              2  1.000000\n",
      "7            9           2              2  1.000000\n",
      "8           10           1              1  1.000000\n",
      "9           11           5              5  1.000000\n",
      "10          12           3              2  0.666667\n",
      "11          13           6              6  1.000000\n",
      "12          14           1              0  0.000000\n",
      "13          15           2              0  0.000000\n",
      "14          16           2              0  0.000000\n",
      "15          17           2              0  0.000000\n",
      "16          18           3              0  0.000000\n",
      "17          19           1              0  0.000000\n",
      "18          20           1              0  0.000000\n",
      "19          21           4              0  0.000000\n",
      "20          22           2              0  0.000000\n",
      "21          23           3              0  0.000000\n",
      "22          24           1              0  0.000000\n",
      "23          25           3              0  0.000000\n",
      "24          26           2              0  0.000000\n",
      "25          27           4              0  0.000000\n",
      "26          28           2              0  0.000000\n",
      "27          29           2              0  0.000000\n",
      "28          30           3              0  0.000000\n",
      "8811aa78c9fffff\n",
      "    order_date  order_time  delivery_time      conv\n",
      "0            1           3              2  0.666667\n",
      "1            2           5              1  0.200000\n",
      "2            3           1              1  1.000000\n",
      "3            4           3              3  1.000000\n",
      "4            5           1              1  1.000000\n",
      "5            6           4              4  1.000000\n",
      "6            7           2              1  0.500000\n",
      "7            8           1              1  1.000000\n",
      "8            9           2              1  0.500000\n",
      "9           12           3              2  0.666667\n",
      "10          13           5              3  0.600000\n",
      "11          14           3              2  0.666667\n",
      "12          15           5              0  0.000000\n",
      "13          16           1              0  0.000000\n",
      "14          17           6              0  0.000000\n",
      "15          18           2              0  0.000000\n",
      "16          19           5              0  0.000000\n",
      "17          22           1              0  0.000000\n",
      "18          23           3              0  0.000000\n",
      "19          24           5              0  0.000000\n",
      "20          25           3              0  0.000000\n",
      "21          26           3              0  0.000000\n",
      "22          27           1              0  0.000000\n",
      "23          28           1              0  0.000000\n",
      "24          29           1              0  0.000000\n"
     ]
    }
   ],
   "source": [
    "for i in hexs:\n",
    "    print(i)\n",
    "    df_loc = df[df['hex_id']==i].groupby('order_date').count()[['order_time','delivery_time']].reset_index()\n",
    "    df_loc['conv'] = df_loc['delivery_time'] / df_loc['order_time']\n",
    "    print(df_loc)"
   ]
  },
  {
   "cell_type": "markdown",
   "id": "5c308960",
   "metadata": {},
   "source": [
    "#### Day by day dynamics with / without weak hexagons"
   ]
  },
  {
   "cell_type": "code",
   "execution_count": 61,
   "id": "c5601923",
   "metadata": {},
   "outputs": [
    {
     "data": {
      "text/plain": [
       "[<matplotlib.lines.Line2D at 0x208b2339be0>]"
      ]
     },
     "execution_count": 61,
     "metadata": {},
     "output_type": "execute_result"
    },
    {
     "data": {
      "image/png": "[encoded data removed]",
      "text/plain": [
       "<Figure size 432x288 with 1 Axes>"
      ]
     },
     "metadata": {
      "needs_background": "light"
     },
     "output_type": "display_data"
    }
   ],
   "source": [
    "df_good = df[~df['hex_id'].isin(hexs)]\n",
    "\n",
    "df_good_gr = df_good.groupby('order_date').count()[['id_order','delivery_time']].reset_index().sort_values('order_date', ascending=False)\n",
    "df_good_gr['conv'] = df_good_gr['delivery_time'] / df_good_gr['id_order']\n",
    "\n",
    "plt.plot(df_good_gr['order_date'],df_good_gr['conv'])"
   ]
  },
  {
   "cell_type": "code",
   "execution_count": 67,
   "id": "280d23ce",
   "metadata": {},
   "outputs": [
    {
     "data": {
      "text/plain": [
       "[<matplotlib.lines.Line2D at 0x208b239e9d0>]"
      ]
     },
     "execution_count": 67,
     "metadata": {},
     "output_type": "execute_result"
    },
    {
     "data": {
      "image/png": "[encoded data removed]",
      "text/plain": [
       "<Figure size 432x288 with 1 Axes>"
      ]
     },
     "metadata": {
      "needs_background": "light"
     },
     "output_type": "display_data"
    }
   ],
   "source": [
    "df_bad = df[df['hex_id'].isin(hexs)]\n",
    "\n",
    "df_bad_gr = df_bad.groupby('order_date').count()[['id_order','delivery_time']].reset_index().sort_values('order_date', ascending=False)\n",
    "df_bad_gr['conv'] = df_bad_gr['delivery_time'] / df_bad_gr['id_order']\n",
    "\n",
    "plt.plot(df_bad_gr['order_date'],df_bad_gr['conv'])"
   ]
  },
  {
   "cell_type": "code",
   "execution_count": null,
   "id": "5ee2f26d",
   "metadata": {},
   "outputs": [],
   "source": []
  },
  {
   "cell_type": "code",
   "execution_count": null,
   "id": "ed9f56e4",
   "metadata": {},
   "outputs": [],
   "source": []
  },
  {
   "cell_type": "code",
   "execution_count": null,
   "id": "c47eef56",
   "metadata": {},
   "outputs": [],
   "source": [
    "import geopy.distance"
   ]
  },
  {
   "cell_type": "code",
   "execution_count": null,
   "id": "64df465c",
   "metadata": {},
   "outputs": [],
   "source": [
    "#!pip install geopy"
   ]
  },
  {
   "cell_type": "code",
   "execution_count": null,
   "id": "a30a92a4",
   "metadata": {},
   "outputs": [],
   "source": [
    "df.head()"
   ]
  },
  {
   "cell_type": "code",
   "execution_count": null,
   "id": "893b88ab",
   "metadata": {},
   "outputs": [],
   "source": []
  }
 ],
 "metadata": {
  "kernelspec": {
   "display_name": "Python 3",
   "language": "python",
   "name": "python3"
  },
  "language_info": {
   "codemirror_mode": {
    "name": "ipython",
    "version": 3
   },
   "file_extension": ".py",
   "mimetype": "text/x-python",
   "name": "python",
   "nbconvert_exporter": "python",
   "pygments_lexer": "ipython3",
   "version": "3.8.8"
  }
 },
 "nbformat": 4,
 "nbformat_minor": 5
}
