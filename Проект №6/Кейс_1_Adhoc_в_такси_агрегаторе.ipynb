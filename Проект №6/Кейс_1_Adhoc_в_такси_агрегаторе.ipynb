{
 "cells": [
  {
   "cell_type": "markdown",
   "id": "f93a7631",
   "metadata": {},
   "source": [
    "# Ad Hoc в SkyTaxi"
   ]
  },
  {
   "cell_type": "code",
   "execution_count": 1,
   "id": "a9d53f1b",
   "metadata": {},
   "outputs": [],
   "source": [
    "import pandas as pd\n",
    "import numpy as np\n",
    "import seaborn as sns\n",
    "import matplotlib.pyplot as plt\n",
    "import math"
   ]
  },
  {
   "cell_type": "code",
   "execution_count": 16,
   "id": "f469a3df",
   "metadata": {},
   "outputs": [],
   "source": [
    "df        = pd.read_csv('C:/Users/D.Elistratov/Documents/AD3.0/Финальные кейсы/Кейс 1. Исследование в такси/Data_Skytaxi.csv', sep=';')\n",
    "df_city   = pd.read_csv('C:/Users/D.Elistratov/Documents/AD3.0/Финальные кейсы/Кейс 1. Исследование в такси/city_dict.csv', sep=';')\n",
    "df_tariff = pd.read_csv('C:/Users/D.Elistratov/Documents/AD3.0/Финальные кейсы/Кейс 1. Исследование в такси/tariff_dict.csv', sep=';')"
   ]
  },
  {
   "cell_type": "code",
   "execution_count": 17,
   "id": "3c528f0f",
   "metadata": {},
   "outputs": [
    {
     "data": {
      "text/html": [
       "<div>\n",
       "<style scoped>\n",
       "    .dataframe tbody tr th:only-of-type {\n",
       "        vertical-align: middle;\n",
       "    }\n",
       "\n",
       "    .dataframe tbody tr th {\n",
       "        vertical-align: top;\n",
       "    }\n",
       "\n",
       "    .dataframe thead th {\n",
       "        text-align: right;\n",
       "    }\n",
       "</style>\n",
       "<table border=\"1\" class=\"dataframe\">\n",
       "  <thead>\n",
       "    <tr style=\"text-align: right;\">\n",
       "      <th></th>\n",
       "      <th>order_id</th>\n",
       "      <th>id_tariff</th>\n",
       "      <th>id_city</th>\n",
       "      <th>order_time</th>\n",
       "      <th>assign_time</th>\n",
       "      <th>arrive_time</th>\n",
       "      <th>ride_finish_time</th>\n",
       "    </tr>\n",
       "  </thead>\n",
       "  <tbody>\n",
       "    <tr>\n",
       "      <th>0</th>\n",
       "      <td>1146020</td>\n",
       "      <td>111</td>\n",
       "      <td>13</td>\n",
       "      <td>04.08.2022 7:12</td>\n",
       "      <td>NaN</td>\n",
       "      <td>NaN</td>\n",
       "      <td>NaN</td>\n",
       "    </tr>\n",
       "    <tr>\n",
       "      <th>1</th>\n",
       "      <td>1146340</td>\n",
       "      <td>114</td>\n",
       "      <td>11</td>\n",
       "      <td>02.08.2022 19:12</td>\n",
       "      <td>02.08.2022 19:19</td>\n",
       "      <td>02.08.2022 19:26</td>\n",
       "      <td>02.08.2022 19:50</td>\n",
       "    </tr>\n",
       "    <tr>\n",
       "      <th>2</th>\n",
       "      <td>1142747</td>\n",
       "      <td>112</td>\n",
       "      <td>13</td>\n",
       "      <td>01.08.2022 13:47</td>\n",
       "      <td>01.08.2022 13:53</td>\n",
       "      <td>01.08.2022 13:59</td>\n",
       "      <td>01.08.2022 14:16</td>\n",
       "    </tr>\n",
       "    <tr>\n",
       "      <th>3</th>\n",
       "      <td>1137227</td>\n",
       "      <td>111</td>\n",
       "      <td>17</td>\n",
       "      <td>03.08.2022 15:45</td>\n",
       "      <td>NaN</td>\n",
       "      <td>NaN</td>\n",
       "      <td>NaN</td>\n",
       "    </tr>\n",
       "    <tr>\n",
       "      <th>4</th>\n",
       "      <td>1137156</td>\n",
       "      <td>111</td>\n",
       "      <td>13</td>\n",
       "      <td>02.08.2022 15:00</td>\n",
       "      <td>02.08.2022 15:02</td>\n",
       "      <td>02.08.2022 15:11</td>\n",
       "      <td>02.08.2022 15:26</td>\n",
       "    </tr>\n",
       "  </tbody>\n",
       "</table>\n",
       "</div>"
      ],
      "text/plain": [
       "   order_id  id_tariff  id_city        order_time       assign_time  \\\n",
       "0   1146020        111       13   04.08.2022 7:12               NaN   \n",
       "1   1146340        114       11  02.08.2022 19:12  02.08.2022 19:19   \n",
       "2   1142747        112       13  01.08.2022 13:47  01.08.2022 13:53   \n",
       "3   1137227        111       17  03.08.2022 15:45               NaN   \n",
       "4   1137156        111       13  02.08.2022 15:00  02.08.2022 15:02   \n",
       "\n",
       "        arrive_time  ride_finish_time  \n",
       "0               NaN               NaN  \n",
       "1  02.08.2022 19:26  02.08.2022 19:50  \n",
       "2  01.08.2022 13:59  01.08.2022 14:16  \n",
       "3               NaN               NaN  \n",
       "4  02.08.2022 15:11  02.08.2022 15:26  "
      ]
     },
     "execution_count": 17,
     "metadata": {},
     "output_type": "execute_result"
    }
   ],
   "source": [
    "df.head()"
   ]
  },
  {
   "cell_type": "code",
   "execution_count": 18,
   "id": "a5164cae",
   "metadata": {},
   "outputs": [],
   "source": [
    "df = df.merge(df_city, on = 'id_city')\n",
    "df = df.merge(df_tariff, on = 'id_tariff')"
   ]
  },
  {
   "cell_type": "code",
   "execution_count": 19,
   "id": "a921f6f2",
   "metadata": {},
   "outputs": [],
   "source": [
    "df['order_time'] = pd.to_datetime(df['order_time'])\n",
    "df['assign_time'] = pd.to_datetime(df['assign_time'])\n",
    "df['arrive_time'] = pd.to_datetime(df['arrive_time'])\n",
    "df['ride_finish_time'] = pd.to_datetime(df['ride_finish_time'])"
   ]
  },
  {
   "cell_type": "markdown",
   "id": "2e9797b9",
   "metadata": {},
   "source": [
    "## Задание 1. Часы пик"
   ]
  },
  {
   "cell_type": "code",
   "execution_count": 20,
   "id": "e2eb321c",
   "metadata": {},
   "outputs": [],
   "source": [
    "df['hour'] = df['order_time'].dt.hour"
   ]
  },
  {
   "cell_type": "code",
   "execution_count": 37,
   "id": "ba42e73a",
   "metadata": {},
   "outputs": [],
   "source": [
    "#df"
   ]
  },
  {
   "cell_type": "code",
   "execution_count": 21,
   "id": "571b5f2d",
   "metadata": {},
   "outputs": [],
   "source": [
    "df['nflag_rush_hour'] = np.where(df['hour'].isin([7,8,9,10,17,18,19,20]),1,0)"
   ]
  },
  {
   "cell_type": "code",
   "execution_count": 22,
   "id": "5620604a",
   "metadata": {},
   "outputs": [],
   "source": [
    "df_gr = df.groupby(['nflag_rush_hour']).count()[['order_time']].reset_index()\n",
    "df_gr_city = df.groupby(['nflag_rush_hour','name_city']).count()[['order_time']].reset_index()"
   ]
  },
  {
   "cell_type": "markdown",
   "id": "de66bc9e",
   "metadata": {},
   "source": [
    "#### Задание 1.1. График с суточными часами"
   ]
  },
  {
   "cell_type": "code",
   "execution_count": 23,
   "id": "6ed59a21",
   "metadata": {},
   "outputs": [
    {
     "name": "stderr",
     "output_type": "stream",
     "text": [
      "C:\\Users\\D.Elistratov\\anaconda3\\lib\\site-packages\\seaborn\\_decorators.py:36: FutureWarning: Pass the following variables as keyword args: x, y. From version 0.12, the only valid positional argument will be `data`, and passing other arguments without an explicit keyword will result in an error or misinterpretation.\n",
      "  warnings.warn(\n"
     ]
    },
    {
     "data": {
      "image/png": "[encoded data removed]",
      "text/plain": [
       "<Figure size 432x288 with 1 Axes>"
      ]
     },
     "metadata": {
      "needs_background": "light"
     },
     "output_type": "display_data"
    }
   ],
   "source": [
    "df_graph = df.groupby(['hour']).count()['order_time'].reset_index()\n",
    "\n",
    "ax = sns.lineplot(df_graph['hour'],df_graph['order_time'])\n",
    "ax.set(xticks=df_graph['hour'].values)\n",
    "plt.show()\n",
    "### https://stackoverflow.com/questions/54186083/lineplot-doesnt-show-all-dates-in-axis"
   ]
  },
  {
   "cell_type": "markdown",
   "id": "52174692",
   "metadata": {},
   "source": [
    "#### Задание 1.2. На сколько заказов больше в часы пик в среднем в час по всем городам вместе?"
   ]
  },
  {
   "cell_type": "code",
   "execution_count": 24,
   "id": "a42a2623",
   "metadata": {},
   "outputs": [
    {
     "data": {
      "text/html": [
       "<div>\n",
       "<style scoped>\n",
       "    .dataframe tbody tr th:only-of-type {\n",
       "        vertical-align: middle;\n",
       "    }\n",
       "\n",
       "    .dataframe tbody tr th {\n",
       "        vertical-align: top;\n",
       "    }\n",
       "\n",
       "    .dataframe thead th {\n",
       "        text-align: right;\n",
       "    }\n",
       "</style>\n",
       "<table border=\"1\" class=\"dataframe\">\n",
       "  <thead>\n",
       "    <tr style=\"text-align: right;\">\n",
       "      <th></th>\n",
       "      <th>nflag_rush_hour</th>\n",
       "      <th>order_time</th>\n",
       "    </tr>\n",
       "  </thead>\n",
       "  <tbody>\n",
       "    <tr>\n",
       "      <th>0</th>\n",
       "      <td>0</td>\n",
       "      <td>3467</td>\n",
       "    </tr>\n",
       "    <tr>\n",
       "      <th>1</th>\n",
       "      <td>1</td>\n",
       "      <td>6553</td>\n",
       "    </tr>\n",
       "  </tbody>\n",
       "</table>\n",
       "</div>"
      ],
      "text/plain": [
       "   nflag_rush_hour  order_time\n",
       "0                0        3467\n",
       "1                1        6553"
      ]
     },
     "execution_count": 24,
     "metadata": {},
     "output_type": "execute_result"
    }
   ],
   "source": [
    "df_gr"
   ]
  },
  {
   "cell_type": "code",
   "execution_count": 29,
   "id": "063dd1f9",
   "metadata": {},
   "outputs": [],
   "source": [
    "df_gr['cnt_order_by_hour'] = np.where(df_gr['nflag_rush_hour']==0,df_gr['order_time']/16,df_gr['order_time']/8)"
   ]
  },
  {
   "cell_type": "code",
   "execution_count": 31,
   "id": "491062b8",
   "metadata": {},
   "outputs": [
    {
     "data": {
      "text/plain": [
       "602.4375"
      ]
     },
     "execution_count": 31,
     "metadata": {},
     "output_type": "execute_result"
    }
   ],
   "source": [
    "#######  По всем городам суммарно\n",
    "\n",
    "df_gr[df_gr['nflag_rush_hour']==1]['cnt_order_by_hour'].item() - df_gr[df_gr['nflag_rush_hour']==0]['cnt_order_by_hour'].item()"
   ]
  },
  {
   "cell_type": "markdown",
   "id": "0de8ac64",
   "metadata": {},
   "source": [
    "#### Задание 1.3. На сколько заказов больше в часы пик в среднем в час по городам по отдельности?"
   ]
  },
  {
   "cell_type": "code",
   "execution_count": 34,
   "id": "84195ee0",
   "metadata": {},
   "outputs": [],
   "source": [
    "df_gr_city['cnt_order_by_hour'] = np.where(df_gr_city['nflag_rush_hour']==0,df_gr_city['order_time']/16,df_gr_city['order_time']/8)"
   ]
  },
  {
   "cell_type": "code",
   "execution_count": 35,
   "id": "6cec9cff",
   "metadata": {},
   "outputs": [
    {
     "name": "stdout",
     "output_type": "stream",
     "text": [
      "Екатеринбург\n",
      "35.4375\n",
      "Казань\n",
      "56.9375\n",
      "Краснодар\n",
      "46.9375\n",
      "Красноярск\n",
      "30.625\n",
      "Москва\n",
      "182.8125\n",
      "Новосибирск\n",
      "54.5\n",
      "Санкт-Петербург\n",
      "119.75\n",
      "Тюмень\n",
      "36.625\n",
      "Хабаровск\n",
      "38.8125\n"
     ]
    }
   ],
   "source": [
    "for i in df_gr_city['name_city'].unique():\n",
    "    print(i)\n",
    "    print(df_gr_city[(df_gr_city['nflag_rush_hour']==1) & (df_gr_city['name_city']==i)]['cnt_order_by_hour'].item() \n",
    "          - df_gr_city[(df_gr_city['nflag_rush_hour']==0) & (df_gr_city['name_city']==i)]['cnt_order_by_hour'].item())"
   ]
  },
  {
   "cell_type": "markdown",
   "id": "147e73de",
   "metadata": {},
   "source": [
    "#### Задание 1.4. В каком городе наблюдается наибольшее отклонение конверсии Order2Ride в пиковые часы по сравнению с не-пиковыми часами?"
   ]
  },
  {
   "cell_type": "code",
   "execution_count": 15,
   "id": "ae3ef336",
   "metadata": {},
   "outputs": [],
   "source": [
    "df_o2r = df.groupby(['nflag_rush_hour','name_city']).count()[['order_time', 'ride_finish_time']].reset_index()\n",
    "df_o2r['o2r'] = df_o2r['ride_finish_time'] / df_o2r['order_time']"
   ]
  },
  {
   "cell_type": "code",
   "execution_count": 16,
   "id": "b48e6bcb",
   "metadata": {},
   "outputs": [
    {
     "name": "stdout",
     "output_type": "stream",
     "text": [
      "Екатеринбург\n",
      "0.0065733366571761875\n",
      "Казань\n",
      "-0.025245880069734494\n",
      "Краснодар\n",
      "-0.034977388952284305\n",
      "Красноярск\n",
      "0.05901777559193422\n",
      "Москва\n",
      "-0.11725371157947678\n",
      "Новосибирск\n",
      "-0.021197182201500686\n",
      "Санкт-Петербург\n",
      "-0.09293651940710762\n",
      "Тюмень\n",
      "-0.00390165220802996\n",
      "Хабаровск\n",
      "0.06424165561768605\n"
     ]
    }
   ],
   "source": [
    "for i in df_o2r['name_city'].unique():\n",
    "    print(i)\n",
    "    print(df_o2r[(df_o2r['nflag_rush_hour']==1) & (df_o2r['name_city']==i)]['o2r'].item() \n",
    "          - df_o2r[(df_o2r['nflag_rush_hour']==0) & (df_o2r['name_city']==i)]['o2r'].item())"
   ]
  },
  {
   "cell_type": "markdown",
   "id": "3dc36ded",
   "metadata": {},
   "source": [
    "## Задание 2. Тюмень и Хабаровск"
   ]
  },
  {
   "cell_type": "markdown",
   "id": "a43164c5",
   "metadata": {},
   "source": [
    "#### Задание 2.1. Новые города против остальных"
   ]
  },
  {
   "cell_type": "code",
   "execution_count": 17,
   "id": "f277edfb",
   "metadata": {},
   "outputs": [],
   "source": [
    "df['nflag_new_city'] = np.where(df['name_city'].isin(['Тюмень','Хабаровск']),1,0)"
   ]
  },
  {
   "cell_type": "code",
   "execution_count": 18,
   "id": "892f8b6a",
   "metadata": {},
   "outputs": [],
   "source": [
    "df_gr2 = df.groupby('nflag_new_city').count()[['order_time','assign_time','arrive_time','ride_finish_time']].reset_index()"
   ]
  },
  {
   "cell_type": "code",
   "execution_count": 19,
   "id": "00a384e6",
   "metadata": {},
   "outputs": [],
   "source": [
    "df_gr2['o2r'] = df_gr2['ride_finish_time'] / df_gr2['order_time']\n",
    "df_gr2['o2ass'] = df_gr2['assign_time'] / df_gr2['order_time']\n",
    "df_gr2['ass2arr'] = df_gr2['arrive_time'] / df_gr2['assign_time']\n",
    "df_gr2['arr2r'] = df_gr2['ride_finish_time'] / df_gr2['arrive_time']"
   ]
  },
  {
   "cell_type": "code",
   "execution_count": 20,
   "id": "29c3cf69",
   "metadata": {},
   "outputs": [
    {
     "data": {
      "text/html": [
       "<div>\n",
       "<style scoped>\n",
       "    .dataframe tbody tr th:only-of-type {\n",
       "        vertical-align: middle;\n",
       "    }\n",
       "\n",
       "    .dataframe tbody tr th {\n",
       "        vertical-align: top;\n",
       "    }\n",
       "\n",
       "    .dataframe thead th {\n",
       "        text-align: right;\n",
       "    }\n",
       "</style>\n",
       "<table border=\"1\" class=\"dataframe\">\n",
       "  <thead>\n",
       "    <tr style=\"text-align: right;\">\n",
       "      <th></th>\n",
       "      <th>nflag_new_city</th>\n",
       "      <th>order_time</th>\n",
       "      <th>assign_time</th>\n",
       "      <th>arrive_time</th>\n",
       "      <th>ride_finish_time</th>\n",
       "      <th>o2r</th>\n",
       "      <th>o2ass</th>\n",
       "      <th>ass2arr</th>\n",
       "      <th>arr2r</th>\n",
       "    </tr>\n",
       "  </thead>\n",
       "  <tbody>\n",
       "    <tr>\n",
       "      <th>0</th>\n",
       "      <td>0</td>\n",
       "      <td>8764</td>\n",
       "      <td>6178</td>\n",
       "      <td>4877</td>\n",
       "      <td>4501</td>\n",
       "      <td>0.513578</td>\n",
       "      <td>0.704929</td>\n",
       "      <td>0.789414</td>\n",
       "      <td>0.922903</td>\n",
       "    </tr>\n",
       "    <tr>\n",
       "      <th>1</th>\n",
       "      <td>1</td>\n",
       "      <td>1256</td>\n",
       "      <td>565</td>\n",
       "      <td>468</td>\n",
       "      <td>333</td>\n",
       "      <td>0.265127</td>\n",
       "      <td>0.449841</td>\n",
       "      <td>0.828319</td>\n",
       "      <td>0.711538</td>\n",
       "    </tr>\n",
       "  </tbody>\n",
       "</table>\n",
       "</div>"
      ],
      "text/plain": [
       "   nflag_new_city  order_time  assign_time  arrive_time  ride_finish_time  \\\n",
       "0               0        8764         6178         4877              4501   \n",
       "1               1        1256          565          468               333   \n",
       "\n",
       "        o2r     o2ass   ass2arr     arr2r  \n",
       "0  0.513578  0.704929  0.789414  0.922903  \n",
       "1  0.265127  0.449841  0.828319  0.711538  "
      ]
     },
     "execution_count": 20,
     "metadata": {},
     "output_type": "execute_result"
    }
   ],
   "source": [
    "df_gr2"
   ]
  },
  {
   "cell_type": "code",
   "execution_count": 21,
   "id": "da1a3b26",
   "metadata": {},
   "outputs": [
    {
     "data": {
      "text/plain": [
       "0.24845088622535155"
      ]
     },
     "execution_count": 21,
     "metadata": {},
     "output_type": "execute_result"
    }
   ],
   "source": [
    "df_gr2[df_gr2['nflag_new_city']==0]['o2r'].item() - df_gr2[df_gr2['nflag_new_city']==1]['o2r'].item()"
   ]
  },
  {
   "cell_type": "markdown",
   "id": "1605806e",
   "metadata": {},
   "source": [
    "#### Задание 2.2. Просадки Тюмени и Хабаровска по отдельности"
   ]
  },
  {
   "cell_type": "code",
   "execution_count": 22,
   "id": "009b95c6",
   "metadata": {},
   "outputs": [],
   "source": [
    "df['nflag_new_city2'] = np.where(df['name_city'].isin(['Тюмень','Хабаровск']),df['name_city'],'Other')"
   ]
  },
  {
   "cell_type": "code",
   "execution_count": 23,
   "id": "726b43bb",
   "metadata": {},
   "outputs": [],
   "source": [
    "df_gr22 = df.groupby('nflag_new_city2').count()[['order_time','assign_time','arrive_time','ride_finish_time']].reset_index()"
   ]
  },
  {
   "cell_type": "code",
   "execution_count": 24,
   "id": "50ae3477",
   "metadata": {},
   "outputs": [],
   "source": [
    "df_gr22['o2r']     = df_gr22['ride_finish_time'] / df_gr22['order_time']\n",
    "df_gr22['o2ass']   = df_gr22['assign_time']      / df_gr22['order_time']\n",
    "df_gr22['ass2arr'] = df_gr22['arrive_time']      / df_gr22['assign_time']\n",
    "df_gr22['arr2r']   = df_gr22['ride_finish_time'] / df_gr22['arrive_time']"
   ]
  },
  {
   "cell_type": "code",
   "execution_count": 25,
   "id": "24a8fa92",
   "metadata": {},
   "outputs": [
    {
     "data": {
      "text/html": [
       "<div>\n",
       "<style scoped>\n",
       "    .dataframe tbody tr th:only-of-type {\n",
       "        vertical-align: middle;\n",
       "    }\n",
       "\n",
       "    .dataframe tbody tr th {\n",
       "        vertical-align: top;\n",
       "    }\n",
       "\n",
       "    .dataframe thead th {\n",
       "        text-align: right;\n",
       "    }\n",
       "</style>\n",
       "<table border=\"1\" class=\"dataframe\">\n",
       "  <thead>\n",
       "    <tr style=\"text-align: right;\">\n",
       "      <th></th>\n",
       "      <th>nflag_new_city2</th>\n",
       "      <th>order_time</th>\n",
       "      <th>assign_time</th>\n",
       "      <th>arrive_time</th>\n",
       "      <th>ride_finish_time</th>\n",
       "      <th>o2r</th>\n",
       "      <th>o2ass</th>\n",
       "      <th>ass2arr</th>\n",
       "      <th>arr2r</th>\n",
       "    </tr>\n",
       "  </thead>\n",
       "  <tbody>\n",
       "    <tr>\n",
       "      <th>0</th>\n",
       "      <td>Other</td>\n",
       "      <td>8764</td>\n",
       "      <td>6178</td>\n",
       "      <td>4877</td>\n",
       "      <td>4501</td>\n",
       "      <td>0.513578</td>\n",
       "      <td>0.704929</td>\n",
       "      <td>0.789414</td>\n",
       "      <td>0.922903</td>\n",
       "    </tr>\n",
       "    <tr>\n",
       "      <th>1</th>\n",
       "      <td>Тюмень</td>\n",
       "      <td>632</td>\n",
       "      <td>352</td>\n",
       "      <td>295</td>\n",
       "      <td>169</td>\n",
       "      <td>0.267405</td>\n",
       "      <td>0.556962</td>\n",
       "      <td>0.838068</td>\n",
       "      <td>0.572881</td>\n",
       "    </tr>\n",
       "    <tr>\n",
       "      <th>2</th>\n",
       "      <td>Хабаровск</td>\n",
       "      <td>624</td>\n",
       "      <td>213</td>\n",
       "      <td>173</td>\n",
       "      <td>164</td>\n",
       "      <td>0.262821</td>\n",
       "      <td>0.341346</td>\n",
       "      <td>0.812207</td>\n",
       "      <td>0.947977</td>\n",
       "    </tr>\n",
       "  </tbody>\n",
       "</table>\n",
       "</div>"
      ],
      "text/plain": [
       "  nflag_new_city2  order_time  assign_time  arrive_time  ride_finish_time  \\\n",
       "0           Other        8764         6178         4877              4501   \n",
       "1          Тюмень         632          352          295               169   \n",
       "2       Хабаровск         624          213          173               164   \n",
       "\n",
       "        o2r     o2ass   ass2arr     arr2r  \n",
       "0  0.513578  0.704929  0.789414  0.922903  \n",
       "1  0.267405  0.556962  0.838068  0.572881  \n",
       "2  0.262821  0.341346  0.812207  0.947977  "
      ]
     },
     "execution_count": 25,
     "metadata": {},
     "output_type": "execute_result"
    }
   ],
   "source": [
    "df_gr22"
   ]
  },
  {
   "cell_type": "code",
   "execution_count": 26,
   "id": "b6e2c7ce",
   "metadata": {},
   "outputs": [],
   "source": [
    "######## Рекомендации менеджменту Хабаровска:\n",
    "######## требуется больше водителей, так как мы проседаем из-за недостатка назначений водителей\n",
    "\n",
    "######## Тюмень, кажется, подходит для третьего задания"
   ]
  },
  {
   "cell_type": "markdown",
   "id": "aaf9e1bb",
   "metadata": {},
   "source": [
    "## Задание 3. Фрод"
   ]
  },
  {
   "cell_type": "code",
   "execution_count": 27,
   "id": "2682801c",
   "metadata": {},
   "outputs": [],
   "source": [
    "df_gr3          = df.groupby('name_city').count()[['arrive_time','ride_finish_time']].reset_index()\n",
    "df_gr3['arr2r'] = df_gr3['ride_finish_time'] / df_gr3['arrive_time']"
   ]
  },
  {
   "cell_type": "code",
   "execution_count": 28,
   "id": "8ec7f72b",
   "metadata": {},
   "outputs": [
    {
     "data": {
      "text/html": [
       "<div>\n",
       "<style scoped>\n",
       "    .dataframe tbody tr th:only-of-type {\n",
       "        vertical-align: middle;\n",
       "    }\n",
       "\n",
       "    .dataframe tbody tr th {\n",
       "        vertical-align: top;\n",
       "    }\n",
       "\n",
       "    .dataframe thead th {\n",
       "        text-align: right;\n",
       "    }\n",
       "</style>\n",
       "<table border=\"1\" class=\"dataframe\">\n",
       "  <thead>\n",
       "    <tr style=\"text-align: right;\">\n",
       "      <th></th>\n",
       "      <th>name_city</th>\n",
       "      <th>arrive_time</th>\n",
       "      <th>ride_finish_time</th>\n",
       "      <th>arr2r</th>\n",
       "    </tr>\n",
       "  </thead>\n",
       "  <tbody>\n",
       "    <tr>\n",
       "      <th>0</th>\n",
       "      <td>Екатеринбург</td>\n",
       "      <td>354</td>\n",
       "      <td>333</td>\n",
       "      <td>0.940678</td>\n",
       "    </tr>\n",
       "    <tr>\n",
       "      <th>1</th>\n",
       "      <td>Казань</td>\n",
       "      <td>528</td>\n",
       "      <td>506</td>\n",
       "      <td>0.958333</td>\n",
       "    </tr>\n",
       "    <tr>\n",
       "      <th>2</th>\n",
       "      <td>Краснодар</td>\n",
       "      <td>457</td>\n",
       "      <td>428</td>\n",
       "      <td>0.936543</td>\n",
       "    </tr>\n",
       "    <tr>\n",
       "      <th>3</th>\n",
       "      <td>Красноярск</td>\n",
       "      <td>320</td>\n",
       "      <td>195</td>\n",
       "      <td>0.609375</td>\n",
       "    </tr>\n",
       "    <tr>\n",
       "      <th>4</th>\n",
       "      <td>Москва</td>\n",
       "      <td>1594</td>\n",
       "      <td>1505</td>\n",
       "      <td>0.944166</td>\n",
       "    </tr>\n",
       "    <tr>\n",
       "      <th>5</th>\n",
       "      <td>Новосибирск</td>\n",
       "      <td>525</td>\n",
       "      <td>501</td>\n",
       "      <td>0.954286</td>\n",
       "    </tr>\n",
       "    <tr>\n",
       "      <th>6</th>\n",
       "      <td>Санкт-Петербург</td>\n",
       "      <td>1099</td>\n",
       "      <td>1033</td>\n",
       "      <td>0.939945</td>\n",
       "    </tr>\n",
       "    <tr>\n",
       "      <th>7</th>\n",
       "      <td>Тюмень</td>\n",
       "      <td>295</td>\n",
       "      <td>169</td>\n",
       "      <td>0.572881</td>\n",
       "    </tr>\n",
       "    <tr>\n",
       "      <th>8</th>\n",
       "      <td>Хабаровск</td>\n",
       "      <td>173</td>\n",
       "      <td>164</td>\n",
       "      <td>0.947977</td>\n",
       "    </tr>\n",
       "  </tbody>\n",
       "</table>\n",
       "</div>"
      ],
      "text/plain": [
       "         name_city  arrive_time  ride_finish_time     arr2r\n",
       "0     Екатеринбург          354               333  0.940678\n",
       "1           Казань          528               506  0.958333\n",
       "2        Краснодар          457               428  0.936543\n",
       "3       Красноярск          320               195  0.609375\n",
       "4           Москва         1594              1505  0.944166\n",
       "5      Новосибирск          525               501  0.954286\n",
       "6  Санкт-Петербург         1099              1033  0.939945\n",
       "7           Тюмень          295               169  0.572881\n",
       "8        Хабаровск          173               164  0.947977"
      ]
     },
     "execution_count": 28,
     "metadata": {},
     "output_type": "execute_result"
    }
   ],
   "source": [
    "df_gr3"
   ]
  },
  {
   "cell_type": "code",
   "execution_count": 29,
   "id": "b1e0f79a",
   "metadata": {},
   "outputs": [],
   "source": [
    "############  Направляем в отдел антифрода информацию по Тюмени и Красноярску"
   ]
  },
  {
   "cell_type": "markdown",
   "id": "92981c4c",
   "metadata": {},
   "source": [
    "## Задание 4. Тариф \"Доставка\""
   ]
  },
  {
   "cell_type": "code",
   "execution_count": 38,
   "id": "39e39255",
   "metadata": {},
   "outputs": [],
   "source": [
    "df_del = df[df['name_tariff']=='Доставка']\n",
    "\n",
    "######  Удаляем Краснодар\n",
    "df_del = df_del[df_del['name_city']!='Краснодар']"
   ]
  },
  {
   "cell_type": "code",
   "execution_count": 39,
   "id": "c56d701b",
   "metadata": {
    "scrolled": true
   },
   "outputs": [
    {
     "data": {
      "text/html": [
       "<div>\n",
       "<style scoped>\n",
       "    .dataframe tbody tr th:only-of-type {\n",
       "        vertical-align: middle;\n",
       "    }\n",
       "\n",
       "    .dataframe tbody tr th {\n",
       "        vertical-align: top;\n",
       "    }\n",
       "\n",
       "    .dataframe thead th {\n",
       "        text-align: right;\n",
       "    }\n",
       "</style>\n",
       "<table border=\"1\" class=\"dataframe\">\n",
       "  <thead>\n",
       "    <tr style=\"text-align: right;\">\n",
       "      <th></th>\n",
       "      <th>order_id</th>\n",
       "      <th>id_tariff</th>\n",
       "      <th>id_city</th>\n",
       "      <th>order_time</th>\n",
       "      <th>assign_time</th>\n",
       "      <th>arrive_time</th>\n",
       "      <th>ride_finish_time</th>\n",
       "      <th>name_city</th>\n",
       "      <th>name_tariff</th>\n",
       "      <th>hour</th>\n",
       "      <th>nflag_rush_hour</th>\n",
       "    </tr>\n",
       "  </thead>\n",
       "  <tbody>\n",
       "    <tr>\n",
       "      <th>9365</th>\n",
       "      <td>1140485</td>\n",
       "      <td>115</td>\n",
       "      <td>13</td>\n",
       "      <td>2022-04-08 08:30:00</td>\n",
       "      <td>NaT</td>\n",
       "      <td>NaT</td>\n",
       "      <td>NaT</td>\n",
       "      <td>Казань</td>\n",
       "      <td>Доставка</td>\n",
       "      <td>8</td>\n",
       "      <td>1</td>\n",
       "    </tr>\n",
       "    <tr>\n",
       "      <th>9366</th>\n",
       "      <td>1143658</td>\n",
       "      <td>115</td>\n",
       "      <td>13</td>\n",
       "      <td>2022-05-08 07:12:00</td>\n",
       "      <td>NaT</td>\n",
       "      <td>NaT</td>\n",
       "      <td>NaT</td>\n",
       "      <td>Казань</td>\n",
       "      <td>Доставка</td>\n",
       "      <td>7</td>\n",
       "      <td>1</td>\n",
       "    </tr>\n",
       "    <tr>\n",
       "      <th>9367</th>\n",
       "      <td>1146695</td>\n",
       "      <td>115</td>\n",
       "      <td>13</td>\n",
       "      <td>2022-03-08 18:28:00</td>\n",
       "      <td>2022-03-08 18:32:00</td>\n",
       "      <td>2022-03-08 18:51:00</td>\n",
       "      <td>2022-03-08 19:04:00</td>\n",
       "      <td>Казань</td>\n",
       "      <td>Доставка</td>\n",
       "      <td>18</td>\n",
       "      <td>1</td>\n",
       "    </tr>\n",
       "    <tr>\n",
       "      <th>9368</th>\n",
       "      <td>1146342</td>\n",
       "      <td>115</td>\n",
       "      <td>13</td>\n",
       "      <td>2022-07-08 07:46:00</td>\n",
       "      <td>2022-07-08 07:51:00</td>\n",
       "      <td>2022-07-08 08:11:00</td>\n",
       "      <td>2022-07-08 08:22:00</td>\n",
       "      <td>Казань</td>\n",
       "      <td>Доставка</td>\n",
       "      <td>7</td>\n",
       "      <td>1</td>\n",
       "    </tr>\n",
       "    <tr>\n",
       "      <th>9369</th>\n",
       "      <td>1146481</td>\n",
       "      <td>115</td>\n",
       "      <td>13</td>\n",
       "      <td>2022-03-08 10:33:00</td>\n",
       "      <td>2022-03-08 10:37:00</td>\n",
       "      <td>NaT</td>\n",
       "      <td>NaT</td>\n",
       "      <td>Казань</td>\n",
       "      <td>Доставка</td>\n",
       "      <td>10</td>\n",
       "      <td>1</td>\n",
       "    </tr>\n",
       "    <tr>\n",
       "      <th>...</th>\n",
       "      <td>...</td>\n",
       "      <td>...</td>\n",
       "      <td>...</td>\n",
       "      <td>...</td>\n",
       "      <td>...</td>\n",
       "      <td>...</td>\n",
       "      <td>...</td>\n",
       "      <td>...</td>\n",
       "      <td>...</td>\n",
       "      <td>...</td>\n",
       "      <td>...</td>\n",
       "    </tr>\n",
       "    <tr>\n",
       "      <th>10015</th>\n",
       "      <td>1137067</td>\n",
       "      <td>115</td>\n",
       "      <td>14</td>\n",
       "      <td>2022-05-08 16:29:00</td>\n",
       "      <td>2022-05-08 16:38:00</td>\n",
       "      <td>2022-05-08 16:55:00</td>\n",
       "      <td>2022-05-08 17:08:00</td>\n",
       "      <td>Новосибирск</td>\n",
       "      <td>Доставка</td>\n",
       "      <td>16</td>\n",
       "      <td>0</td>\n",
       "    </tr>\n",
       "    <tr>\n",
       "      <th>10016</th>\n",
       "      <td>1142641</td>\n",
       "      <td>115</td>\n",
       "      <td>14</td>\n",
       "      <td>2022-04-08 05:24:00</td>\n",
       "      <td>NaT</td>\n",
       "      <td>NaT</td>\n",
       "      <td>NaT</td>\n",
       "      <td>Новосибирск</td>\n",
       "      <td>Доставка</td>\n",
       "      <td>5</td>\n",
       "      <td>0</td>\n",
       "    </tr>\n",
       "    <tr>\n",
       "      <th>10017</th>\n",
       "      <td>1136917</td>\n",
       "      <td>115</td>\n",
       "      <td>14</td>\n",
       "      <td>2022-03-08 02:59:00</td>\n",
       "      <td>2022-03-08 03:06:00</td>\n",
       "      <td>2022-03-08 03:25:00</td>\n",
       "      <td>2022-03-08 03:35:00</td>\n",
       "      <td>Новосибирск</td>\n",
       "      <td>Доставка</td>\n",
       "      <td>2</td>\n",
       "      <td>0</td>\n",
       "    </tr>\n",
       "    <tr>\n",
       "      <th>10018</th>\n",
       "      <td>1146236</td>\n",
       "      <td>115</td>\n",
       "      <td>14</td>\n",
       "      <td>2022-01-08 07:18:00</td>\n",
       "      <td>2022-01-08 07:22:00</td>\n",
       "      <td>2022-01-08 07:42:00</td>\n",
       "      <td>2022-01-08 07:54:00</td>\n",
       "      <td>Новосибирск</td>\n",
       "      <td>Доставка</td>\n",
       "      <td>7</td>\n",
       "      <td>1</td>\n",
       "    </tr>\n",
       "    <tr>\n",
       "      <th>10019</th>\n",
       "      <td>1143746</td>\n",
       "      <td>115</td>\n",
       "      <td>14</td>\n",
       "      <td>2022-05-08 07:40:00</td>\n",
       "      <td>NaT</td>\n",
       "      <td>NaT</td>\n",
       "      <td>NaT</td>\n",
       "      <td>Новосибирск</td>\n",
       "      <td>Доставка</td>\n",
       "      <td>7</td>\n",
       "      <td>1</td>\n",
       "    </tr>\n",
       "  </tbody>\n",
       "</table>\n",
       "<p>653 rows × 11 columns</p>\n",
       "</div>"
      ],
      "text/plain": [
       "       order_id  id_tariff  id_city          order_time         assign_time  \\\n",
       "9365    1140485        115       13 2022-04-08 08:30:00                 NaT   \n",
       "9366    1143658        115       13 2022-05-08 07:12:00                 NaT   \n",
       "9367    1146695        115       13 2022-03-08 18:28:00 2022-03-08 18:32:00   \n",
       "9368    1146342        115       13 2022-07-08 07:46:00 2022-07-08 07:51:00   \n",
       "9369    1146481        115       13 2022-03-08 10:33:00 2022-03-08 10:37:00   \n",
       "...         ...        ...      ...                 ...                 ...   \n",
       "10015   1137067        115       14 2022-05-08 16:29:00 2022-05-08 16:38:00   \n",
       "10016   1142641        115       14 2022-04-08 05:24:00                 NaT   \n",
       "10017   1136917        115       14 2022-03-08 02:59:00 2022-03-08 03:06:00   \n",
       "10018   1146236        115       14 2022-01-08 07:18:00 2022-01-08 07:22:00   \n",
       "10019   1143746        115       14 2022-05-08 07:40:00                 NaT   \n",
       "\n",
       "              arrive_time    ride_finish_time    name_city name_tariff  hour  \\\n",
       "9365                  NaT                 NaT       Казань    Доставка     8   \n",
       "9366                  NaT                 NaT       Казань    Доставка     7   \n",
       "9367  2022-03-08 18:51:00 2022-03-08 19:04:00       Казань    Доставка    18   \n",
       "9368  2022-07-08 08:11:00 2022-07-08 08:22:00       Казань    Доставка     7   \n",
       "9369                  NaT                 NaT       Казань    Доставка    10   \n",
       "...                   ...                 ...          ...         ...   ...   \n",
       "10015 2022-05-08 16:55:00 2022-05-08 17:08:00  Новосибирск    Доставка    16   \n",
       "10016                 NaT                 NaT  Новосибирск    Доставка     5   \n",
       "10017 2022-03-08 03:25:00 2022-03-08 03:35:00  Новосибирск    Доставка     2   \n",
       "10018 2022-01-08 07:42:00 2022-01-08 07:54:00  Новосибирск    Доставка     7   \n",
       "10019                 NaT                 NaT  Новосибирск    Доставка     7   \n",
       "\n",
       "       nflag_rush_hour  \n",
       "9365                 1  \n",
       "9366                 1  \n",
       "9367                 1  \n",
       "9368                 1  \n",
       "9369                 1  \n",
       "...                ...  \n",
       "10015                0  \n",
       "10016                0  \n",
       "10017                0  \n",
       "10018                1  \n",
       "10019                1  \n",
       "\n",
       "[653 rows x 11 columns]"
      ]
     },
     "execution_count": 39,
     "metadata": {},
     "output_type": "execute_result"
    }
   ],
   "source": [
    "df_del"
   ]
  },
  {
   "cell_type": "code",
   "execution_count": 72,
   "id": "9a601d26",
   "metadata": {},
   "outputs": [],
   "source": [
    "df_del_gr = df_del.groupby('name_city').count()[['order_time','assign_time','arrive_time','ride_finish_time']].reset_index()\n",
    "\n",
    "df_del_gr['o2ass']       = df_del_gr['assign_time'] / df_del_gr['order_time']\n",
    "#df_del_gr['o2ass_var']   = df_del_gr['o2ass'] * (1 - df_del_gr['o2ass'])\n",
    "\n",
    "df_del_gr['ass2arr']     = df_del_gr['arrive_time'] / df_del_gr['assign_time']\n",
    "#df_del_gr['ass2arr_var'] = df_del_gr['ass2arr'] * (1 - df_del_gr['ass2arr'])\n",
    "\n",
    "df_del_gr['arr2r'] = df_del_gr['ride_finish_time'] / df_del_gr['arrive_time']\n",
    "#df_del_gr['arr2r_var'] = df_del_gr['arr2r'] * (1 - df_del_gr['arr2r'])\n",
    "\n",
    "df_del_gr['o2r'] = df_del_gr['ride_finish_time'] / df_del_gr['order_time']\n",
    "#df_del_gr['o2r_var'] = df_del_gr['o2r'] * (1 - df_del_gr['o2r'])"
   ]
  },
  {
   "cell_type": "code",
   "execution_count": 78,
   "id": "0156a59e",
   "metadata": {},
   "outputs": [],
   "source": [
    "df_del_gr['o2r_upper'] = df_del_gr['o2r'] + 1.96*(df_del_gr['o2r']*(1-df_del_gr['o2r'])/df_del_gr['order_time']).apply(np.sqrt)\n",
    "df_del_gr['o2r_lower'] = df_del_gr['o2r'] - 1.96*(df_del_gr['o2r']*(1-df_del_gr['o2r'])/df_del_gr['order_time']).apply(np.sqrt)\n",
    "\n",
    "df_del_gr['o2ass_upper'] = df_del_gr['o2ass'] + 1.96*(df_del_gr['o2ass']*(1-df_del_gr['o2ass'])/df_del_gr['order_time']).apply(np.sqrt)\n",
    "df_del_gr['o2ass_lower'] = df_del_gr['o2ass'] - 1.96*(df_del_gr['o2ass']*(1-df_del_gr['o2ass'])/df_del_gr['order_time']).apply(np.sqrt)\n",
    "\n",
    "df_del_gr['ass2arr_upper'] = df_del_gr['ass2arr'] + 1.96*(df_del_gr['ass2arr']*(1-df_del_gr['ass2arr'])/df_del_gr['assign_time']).apply(np.sqrt)\n",
    "df_del_gr['ass2arr_lower'] = df_del_gr['ass2arr'] - 1.96*(df_del_gr['ass2arr']*(1-df_del_gr['ass2arr'])/df_del_gr['assign_time']).apply(np.sqrt)\n",
    "\n",
    "df_del_gr['arr2r_upper'] = df_del_gr['arr2r'] + 1.96*(df_del_gr['arr2r']*(1-df_del_gr['arr2r'])/df_del_gr['arrive_time']).apply(np.sqrt)\n",
    "df_del_gr['arr2r_lower'] = df_del_gr['arr2r'] - 1.96*(df_del_gr['arr2r']*(1-df_del_gr['arr2r'])/df_del_gr['arrive_time']).apply(np.sqrt)"
   ]
  },
  {
   "cell_type": "code",
   "execution_count": 79,
   "id": "a7b88320",
   "metadata": {},
   "outputs": [
    {
     "data": {
      "text/html": [
       "<div>\n",
       "<style scoped>\n",
       "    .dataframe tbody tr th:only-of-type {\n",
       "        vertical-align: middle;\n",
       "    }\n",
       "\n",
       "    .dataframe tbody tr th {\n",
       "        vertical-align: top;\n",
       "    }\n",
       "\n",
       "    .dataframe thead th {\n",
       "        text-align: right;\n",
       "    }\n",
       "</style>\n",
       "<table border=\"1\" class=\"dataframe\">\n",
       "  <thead>\n",
       "    <tr style=\"text-align: right;\">\n",
       "      <th></th>\n",
       "      <th>name_city</th>\n",
       "      <th>order_time</th>\n",
       "      <th>assign_time</th>\n",
       "      <th>arrive_time</th>\n",
       "      <th>ride_finish_time</th>\n",
       "      <th>o2ass</th>\n",
       "      <th>ass2arr</th>\n",
       "      <th>arr2r</th>\n",
       "      <th>o2r</th>\n",
       "      <th>o2r_upper</th>\n",
       "      <th>o2r_lower</th>\n",
       "      <th>o2ass_upper</th>\n",
       "      <th>o2ass_lower</th>\n",
       "      <th>ass2arr_upper</th>\n",
       "      <th>ass2arr_lower</th>\n",
       "      <th>arr2r_upper</th>\n",
       "      <th>arr2r_lower</th>\n",
       "    </tr>\n",
       "  </thead>\n",
       "  <tbody>\n",
       "    <tr>\n",
       "      <th>0</th>\n",
       "      <td>Екатеринбург</td>\n",
       "      <td>47</td>\n",
       "      <td>37</td>\n",
       "      <td>31</td>\n",
       "      <td>28</td>\n",
       "      <td>0.787234</td>\n",
       "      <td>0.837838</td>\n",
       "      <td>0.903226</td>\n",
       "      <td>0.595745</td>\n",
       "      <td>0.736047</td>\n",
       "      <td>0.455442</td>\n",
       "      <td>0.904241</td>\n",
       "      <td>0.670228</td>\n",
       "      <td>0.956609</td>\n",
       "      <td>0.719067</td>\n",
       "      <td>1.007302</td>\n",
       "      <td>0.799149</td>\n",
       "    </tr>\n",
       "    <tr>\n",
       "      <th>1</th>\n",
       "      <td>Казань</td>\n",
       "      <td>55</td>\n",
       "      <td>42</td>\n",
       "      <td>34</td>\n",
       "      <td>33</td>\n",
       "      <td>0.763636</td>\n",
       "      <td>0.809524</td>\n",
       "      <td>0.970588</td>\n",
       "      <td>0.600000</td>\n",
       "      <td>0.729473</td>\n",
       "      <td>0.470527</td>\n",
       "      <td>0.875918</td>\n",
       "      <td>0.651355</td>\n",
       "      <td>0.928283</td>\n",
       "      <td>0.690765</td>\n",
       "      <td>1.027381</td>\n",
       "      <td>0.913795</td>\n",
       "    </tr>\n",
       "    <tr>\n",
       "      <th>2</th>\n",
       "      <td>Красноярск</td>\n",
       "      <td>38</td>\n",
       "      <td>31</td>\n",
       "      <td>25</td>\n",
       "      <td>18</td>\n",
       "      <td>0.815789</td>\n",
       "      <td>0.806452</td>\n",
       "      <td>0.720000</td>\n",
       "      <td>0.473684</td>\n",
       "      <td>0.632441</td>\n",
       "      <td>0.314928</td>\n",
       "      <td>0.939046</td>\n",
       "      <td>0.692533</td>\n",
       "      <td>0.945530</td>\n",
       "      <td>0.667373</td>\n",
       "      <td>0.896008</td>\n",
       "      <td>0.543992</td>\n",
       "    </tr>\n",
       "    <tr>\n",
       "      <th>3</th>\n",
       "      <td>Москва</td>\n",
       "      <td>220</td>\n",
       "      <td>155</td>\n",
       "      <td>118</td>\n",
       "      <td>112</td>\n",
       "      <td>0.704545</td>\n",
       "      <td>0.761290</td>\n",
       "      <td>0.949153</td>\n",
       "      <td>0.509091</td>\n",
       "      <td>0.575152</td>\n",
       "      <td>0.443030</td>\n",
       "      <td>0.764835</td>\n",
       "      <td>0.644256</td>\n",
       "      <td>0.828402</td>\n",
       "      <td>0.694178</td>\n",
       "      <td>0.988791</td>\n",
       "      <td>0.909514</td>\n",
       "    </tr>\n",
       "    <tr>\n",
       "      <th>4</th>\n",
       "      <td>Новосибирск</td>\n",
       "      <td>65</td>\n",
       "      <td>43</td>\n",
       "      <td>39</td>\n",
       "      <td>38</td>\n",
       "      <td>0.661538</td>\n",
       "      <td>0.906977</td>\n",
       "      <td>0.974359</td>\n",
       "      <td>0.584615</td>\n",
       "      <td>0.704416</td>\n",
       "      <td>0.464815</td>\n",
       "      <td>0.776574</td>\n",
       "      <td>0.546503</td>\n",
       "      <td>0.993796</td>\n",
       "      <td>0.820158</td>\n",
       "      <td>1.023967</td>\n",
       "      <td>0.924751</td>\n",
       "    </tr>\n",
       "    <tr>\n",
       "      <th>5</th>\n",
       "      <td>Санкт-Петербург</td>\n",
       "      <td>137</td>\n",
       "      <td>100</td>\n",
       "      <td>74</td>\n",
       "      <td>70</td>\n",
       "      <td>0.729927</td>\n",
       "      <td>0.740000</td>\n",
       "      <td>0.945946</td>\n",
       "      <td>0.510949</td>\n",
       "      <td>0.594656</td>\n",
       "      <td>0.427242</td>\n",
       "      <td>0.804276</td>\n",
       "      <td>0.655578</td>\n",
       "      <td>0.825972</td>\n",
       "      <td>0.654028</td>\n",
       "      <td>0.997467</td>\n",
       "      <td>0.894425</td>\n",
       "    </tr>\n",
       "    <tr>\n",
       "      <th>6</th>\n",
       "      <td>Тюмень</td>\n",
       "      <td>44</td>\n",
       "      <td>11</td>\n",
       "      <td>8</td>\n",
       "      <td>7</td>\n",
       "      <td>0.250000</td>\n",
       "      <td>0.727273</td>\n",
       "      <td>0.875000</td>\n",
       "      <td>0.159091</td>\n",
       "      <td>0.267166</td>\n",
       "      <td>0.051015</td>\n",
       "      <td>0.377947</td>\n",
       "      <td>0.122053</td>\n",
       "      <td>0.990465</td>\n",
       "      <td>0.464081</td>\n",
       "      <td>1.104177</td>\n",
       "      <td>0.645823</td>\n",
       "    </tr>\n",
       "    <tr>\n",
       "      <th>7</th>\n",
       "      <td>Хабаровск</td>\n",
       "      <td>47</td>\n",
       "      <td>16</td>\n",
       "      <td>12</td>\n",
       "      <td>11</td>\n",
       "      <td>0.340426</td>\n",
       "      <td>0.750000</td>\n",
       "      <td>0.916667</td>\n",
       "      <td>0.234043</td>\n",
       "      <td>0.355090</td>\n",
       "      <td>0.112995</td>\n",
       "      <td>0.475898</td>\n",
       "      <td>0.204953</td>\n",
       "      <td>0.962176</td>\n",
       "      <td>0.537824</td>\n",
       "      <td>1.073046</td>\n",
       "      <td>0.760287</td>\n",
       "    </tr>\n",
       "  </tbody>\n",
       "</table>\n",
       "</div>"
      ],
      "text/plain": [
       "         name_city  order_time  assign_time  arrive_time  ride_finish_time  \\\n",
       "0     Екатеринбург          47           37           31                28   \n",
       "1           Казань          55           42           34                33   \n",
       "2       Красноярск          38           31           25                18   \n",
       "3           Москва         220          155          118               112   \n",
       "4      Новосибирск          65           43           39                38   \n",
       "5  Санкт-Петербург         137          100           74                70   \n",
       "6           Тюмень          44           11            8                 7   \n",
       "7        Хабаровск          47           16           12                11   \n",
       "\n",
       "      o2ass   ass2arr     arr2r       o2r  o2r_upper  o2r_lower  o2ass_upper  \\\n",
       "0  0.787234  0.837838  0.903226  0.595745   0.736047   0.455442     0.904241   \n",
       "1  0.763636  0.809524  0.970588  0.600000   0.729473   0.470527     0.875918   \n",
       "2  0.815789  0.806452  0.720000  0.473684   0.632441   0.314928     0.939046   \n",
       "3  0.704545  0.761290  0.949153  0.509091   0.575152   0.443030     0.764835   \n",
       "4  0.661538  0.906977  0.974359  0.584615   0.704416   0.464815     0.776574   \n",
       "5  0.729927  0.740000  0.945946  0.510949   0.594656   0.427242     0.804276   \n",
       "6  0.250000  0.727273  0.875000  0.159091   0.267166   0.051015     0.377947   \n",
       "7  0.340426  0.750000  0.916667  0.234043   0.355090   0.112995     0.475898   \n",
       "\n",
       "   o2ass_lower  ass2arr_upper  ass2arr_lower  arr2r_upper  arr2r_lower  \n",
       "0     0.670228       0.956609       0.719067     1.007302     0.799149  \n",
       "1     0.651355       0.928283       0.690765     1.027381     0.913795  \n",
       "2     0.692533       0.945530       0.667373     0.896008     0.543992  \n",
       "3     0.644256       0.828402       0.694178     0.988791     0.909514  \n",
       "4     0.546503       0.993796       0.820158     1.023967     0.924751  \n",
       "5     0.655578       0.825972       0.654028     0.997467     0.894425  \n",
       "6     0.122053       0.990465       0.464081     1.104177     0.645823  \n",
       "7     0.204953       0.962176       0.537824     1.073046     0.760287  "
      ]
     },
     "execution_count": 79,
     "metadata": {},
     "output_type": "execute_result"
    }
   ],
   "source": [
    "df_del_gr"
   ]
  },
  {
   "cell_type": "code",
   "execution_count": 89,
   "id": "36324ab7",
   "metadata": {
    "scrolled": true
   },
   "outputs": [
    {
     "data": {
      "image/png": "[encoded data removed]",
      "text/plain": [
       "<Figure size 576x576 with 1 Axes>"
      ]
     },
     "metadata": {
      "needs_background": "light"
     },
     "output_type": "display_data"
    },
    {
     "data": {
      "image/png": "[encoded data removed]",
      "text/plain": [
       "<Figure size 576x576 with 1 Axes>"
      ]
     },
     "metadata": {
      "needs_background": "light"
     },
     "output_type": "display_data"
    },
    {
     "data": {
      "image/png": "[encoded data removed]",
      "text/plain": [
       "<Figure size 576x576 with 1 Axes>"
      ]
     },
     "metadata": {
      "needs_background": "light"
     },
     "output_type": "display_data"
    },
    {
     "data": {
      "image/png": "[encoded data removed]",
      "text/plain": [
       "<Figure size 576x576 with 1 Axes>"
      ]
     },
     "metadata": {
      "needs_background": "light"
     },
     "output_type": "display_data"
    }
   ],
   "source": [
    "plt.figure()\n",
    "plt.rcParams[\"figure.figsize\"] = (8,8)\n",
    "\n",
    "plt.plot(df_del_gr['name_city'], df_del_gr['o2r'], color = 'red')\n",
    "plt.plot(df_del_gr['name_city'], df_del_gr['o2r_upper'], color = 'red', linestyle='--')\n",
    "plt.plot(df_del_gr['name_city'], df_del_gr['o2r_lower'], color = 'red', linestyle='--')\n",
    "plt.xticks(rotation=45)\n",
    "plt.title('Delivery: Order 2 Ride')\n",
    "plt.show()\n",
    "\n",
    "plt.plot(df_del_gr['name_city'], df_del_gr['o2ass'], color = 'green')\n",
    "plt.plot(df_del_gr['name_city'], df_del_gr['o2ass_upper'], color = 'green', linestyle='--')\n",
    "plt.plot(df_del_gr['name_city'], df_del_gr['o2ass_lower'], color = 'green', linestyle='--')\n",
    "plt.xticks(rotation=45)\n",
    "plt.title('Delivery: Order 2 Assign')\n",
    "plt.show()\n",
    "\n",
    "plt.plot(df_del_gr['name_city'], df_del_gr['ass2arr'], color = 'blue')\n",
    "plt.plot(df_del_gr['name_city'], df_del_gr['ass2arr_upper'], color = 'blue', linestyle='--')\n",
    "plt.plot(df_del_gr['name_city'], df_del_gr['ass2arr_lower'], color = 'blue', linestyle='--')\n",
    "plt.xticks(rotation=45)\n",
    "plt.title('Delivery: Assign 2 Arrive')\n",
    "plt.show()\n",
    "\n",
    "plt.plot(df_del_gr['name_city'], df_del_gr['arr2r'], color = 'black')\n",
    "plt.plot(df_del_gr['name_city'], df_del_gr['arr2r_upper'], color = 'black', linestyle='--')\n",
    "plt.plot(df_del_gr['name_city'], df_del_gr['arr2r_lower'], color = 'black', linestyle='--')\n",
    "plt.xticks(rotation=45)\n",
    "plt.title('Delivery: Arrive 2 Ride')\n",
    "plt.show()"
   ]
  },
  {
   "cell_type": "code",
   "execution_count": null,
   "id": "e27d2c02",
   "metadata": {},
   "outputs": [],
   "source": []
  },
  {
   "cell_type": "code",
   "execution_count": null,
   "id": "6761ad37",
   "metadata": {},
   "outputs": [],
   "source": []
  },
  {
   "cell_type": "code",
   "execution_count": null,
   "id": "e92f22cc",
   "metadata": {},
   "outputs": [],
   "source": []
  },
  {
   "cell_type": "code",
   "execution_count": null,
   "id": "c9f0d488",
   "metadata": {},
   "outputs": [],
   "source": []
  },
  {
   "cell_type": "code",
   "execution_count": null,
   "id": "2d0ae2c5",
   "metadata": {},
   "outputs": [],
   "source": []
  },
  {
   "cell_type": "code",
   "execution_count": null,
   "id": "099e53e3",
   "metadata": {},
   "outputs": [],
   "source": []
  },
  {
   "cell_type": "code",
   "execution_count": null,
   "id": "c1023aa4",
   "metadata": {},
   "outputs": [],
   "source": []
  }
 ],
 "metadata": {
  "kernelspec": {
   "display_name": "Python 3",
   "language": "python",
   "name": "python3"
  },
  "language_info": {
   "codemirror_mode": {
    "name": "ipython",
    "version": 3
   },
   "file_extension": ".py",
   "mimetype": "text/x-python",
   "name": "python",
   "nbconvert_exporter": "python",
   "pygments_lexer": "ipython3",
   "version": "3.8.8"
  }
 },
 "nbformat": 4,
 "nbformat_minor": 5
}
