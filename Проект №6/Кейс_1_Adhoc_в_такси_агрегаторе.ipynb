{
  "cells": [
    {
      "cell_type": "markdown",
      "id": "f93a7631",
      "metadata": {
        "id": "f93a7631"
      },
      "source": [
        "# Ad Hoc в SkyTaxi"
      ]
    },
    {
      "cell_type": "code",
      "execution_count": null,
      "id": "a9d53f1b",
      "metadata": {
        "id": "a9d53f1b"
      },
      "outputs": [],
      "source": [
        "# импортируем все необходимые библиотеки\n",
        "\n",
        "import pandas as pd\n",
        "import numpy as np\n",
        "import seaborn as sns\n",
        "import matplotlib.pyplot as plt\n",
        "import math"
      ]
    },
    {
      "cell_type": "code",
      "execution_count": null,
      "id": "f469a3df",
      "metadata": {
        "id": "f469a3df"
      },
      "outputs": [],
      "source": [
        "df        = pd.read_csv('C:/Users/computer/Documents/AD3.0/Финальные кейсы/Кейс 1. Исследование в такси/Data_Skytaxi.csv', sep=';')\n",
        "df_city   = pd.read_csv('C:/Users/computer/Documents/AD3.0/Финальные кейсы/Кейс 1. Исследование в такси/city_dict.csv', sep=';')\n",
        "df_tariff = pd.read_csv('C:/Users/computer/Documents/AD3.0/Финальные кейсы/Кейс 1. Исследование в такси/tariff_dict.csv', sep=';')"
      ]
    },
    {
      "cell_type": "code",
      "execution_count": null,
      "id": "3c528f0f",
      "metadata": {
        "id": "3c528f0f",
        "outputId": "a2eb8b82-8450-48c4-9437-39ec4cba94f4"
      },
      "outputs": [
        {
          "data": {
            "text/html": [
              "<div>\n",
              "<style scoped>\n",
              "    .dataframe tbody tr th:only-of-type {\n",
              "        vertical-align: middle;\n",
              "    }\n",
              "\n",
              "    .dataframe tbody tr th {\n",
              "        vertical-align: top;\n",
              "    }\n",
              "\n",
              "    .dataframe thead th {\n",
              "        text-align: right;\n",
              "    }\n",
              "</style>\n",
              "<table border=\"1\" class=\"dataframe\">\n",
              "  <thead>\n",
              "    <tr style=\"text-align: right;\">\n",
              "      <th></th>\n",
              "      <th>order_id</th>\n",
              "      <th>id_tariff</th>\n",
              "      <th>id_city</th>\n",
              "      <th>order_time</th>\n",
              "      <th>assign_time</th>\n",
              "      <th>arrive_time</th>\n",
              "      <th>ride_finish_time</th>\n",
              "    </tr>\n",
              "  </thead>\n",
              "  <tbody>\n",
              "    <tr>\n",
              "      <th>0</th>\n",
              "      <td>1146020</td>\n",
              "      <td>111</td>\n",
              "      <td>13</td>\n",
              "      <td>04.08.2022 7:12</td>\n",
              "      <td>NaN</td>\n",
              "      <td>NaN</td>\n",
              "      <td>NaN</td>\n",
              "    </tr>\n",
              "    <tr>\n",
              "      <th>1</th>\n",
              "      <td>1146340</td>\n",
              "      <td>114</td>\n",
              "      <td>11</td>\n",
              "      <td>02.08.2022 19:12</td>\n",
              "      <td>02.08.2022 19:19</td>\n",
              "      <td>02.08.2022 19:26</td>\n",
              "      <td>02.08.2022 19:50</td>\n",
              "    </tr>\n",
              "    <tr>\n",
              "      <th>2</th>\n",
              "      <td>1142747</td>\n",
              "      <td>112</td>\n",
              "      <td>13</td>\n",
              "      <td>01.08.2022 13:47</td>\n",
              "      <td>01.08.2022 13:53</td>\n",
              "      <td>01.08.2022 13:59</td>\n",
              "      <td>01.08.2022 14:16</td>\n",
              "    </tr>\n",
              "    <tr>\n",
              "      <th>3</th>\n",
              "      <td>1137227</td>\n",
              "      <td>111</td>\n",
              "      <td>17</td>\n",
              "      <td>03.08.2022 15:45</td>\n",
              "      <td>NaN</td>\n",
              "      <td>NaN</td>\n",
              "      <td>NaN</td>\n",
              "    </tr>\n",
              "    <tr>\n",
              "      <th>4</th>\n",
              "      <td>1137156</td>\n",
              "      <td>111</td>\n",
              "      <td>13</td>\n",
              "      <td>02.08.2022 15:00</td>\n",
              "      <td>02.08.2022 15:02</td>\n",
              "      <td>02.08.2022 15:11</td>\n",
              "      <td>02.08.2022 15:26</td>\n",
              "    </tr>\n",
              "  </tbody>\n",
              "</table>\n",
              "</div>"
            ],
            "text/plain": [
              "   order_id  id_tariff  id_city        order_time       assign_time  \\\n",
              "0   1146020        111       13   04.08.2022 7:12               NaN   \n",
              "1   1146340        114       11  02.08.2022 19:12  02.08.2022 19:19   \n",
              "2   1142747        112       13  01.08.2022 13:47  01.08.2022 13:53   \n",
              "3   1137227        111       17  03.08.2022 15:45               NaN   \n",
              "4   1137156        111       13  02.08.2022 15:00  02.08.2022 15:02   \n",
              "\n",
              "        arrive_time  ride_finish_time  \n",
              "0               NaN               NaN  \n",
              "1  02.08.2022 19:26  02.08.2022 19:50  \n",
              "2  01.08.2022 13:59  01.08.2022 14:16  \n",
              "3               NaN               NaN  \n",
              "4  02.08.2022 15:11  02.08.2022 15:26  "
            ]
          },
          "execution_count": 17,
          "metadata": {},
          "output_type": "execute_result"
        }
      ],
      "source": [
        "# изучаем данные\n",
        "df.head()"
      ]
    },
    {
      "cell_type": "code",
      "execution_count": null,
      "id": "a5164cae",
      "metadata": {
        "id": "a5164cae"
      },
      "outputs": [],
      "source": [
        "#объединяем таблицы\n",
        "df = df.merge(df_city, on = 'id_city')\n",
        "df = df.merge(df_tariff, on = 'id_tariff')"
      ]
    }
  ],
  "metadata": {
    "kernelspec": {
      "display_name": "Python 3",
      "language": "python",
      "name": "python3"
    },
    "language_info": {
      "codemirror_mode": {
        "name": "ipython",
        "version": 3
      },
      "file_extension": ".py",
      "mimetype": "text/x-python",
      "name": "python",
      "nbconvert_exporter": "python",
      "pygments_lexer": "ipython3",
      "version": "3.8.8"
    },
    "colab": {
      "provenance": []
    }
  },
  "nbformat": 4,
  "nbformat_minor": 5
}
