{
 "cells": [
  {
   "cell_type": "code",
   "execution_count": 2,
   "id": "d8b3893f",
   "metadata": {},
   "outputs": [],
   "source": [
    "import pandas as pd\n",
    "from scipy.stats import ttest_ind"
   ]
  },
  {
   "cell_type": "code",
   "execution_count": 3,
   "id": "55f950c4",
   "metadata": {},
   "outputs": [],
   "source": [
    "df = pd.read_csv('C:/Users/D.Elistratov/Documents/AD3.0/Вебинар Бизнес-3/Домашняя работа Бизнес-3 (исходник).csv', sep=';')"
   ]
  },
  {
   "cell_type": "code",
   "execution_count": 4,
   "id": "2a3372dd",
   "metadata": {},
   "outputs": [
    {
     "data": {
      "text/html": [
       "<div>\n",
       "<style scoped>\n",
       "    .dataframe tbody tr th:only-of-type {\n",
       "        vertical-align: middle;\n",
       "    }\n",
       "\n",
       "    .dataframe tbody tr th {\n",
       "        vertical-align: top;\n",
       "    }\n",
       "\n",
       "    .dataframe thead th {\n",
       "        text-align: right;\n",
       "    }\n",
       "</style>\n",
       "<table border=\"1\" class=\"dataframe\">\n",
       "  <thead>\n",
       "    <tr style=\"text-align: right;\">\n",
       "      <th></th>\n",
       "      <th>id_client</th>\n",
       "      <th>id_group</th>\n",
       "      <th>city</th>\n",
       "      <th>nflag_purchase</th>\n",
       "      <th>time_came</th>\n",
       "    </tr>\n",
       "  </thead>\n",
       "  <tbody>\n",
       "    <tr>\n",
       "      <th>0</th>\n",
       "      <td>24360208</td>\n",
       "      <td>0</td>\n",
       "      <td>Moscow</td>\n",
       "      <td>1</td>\n",
       "      <td>21.10.2021</td>\n",
       "    </tr>\n",
       "    <tr>\n",
       "      <th>1</th>\n",
       "      <td>24360925</td>\n",
       "      <td>1</td>\n",
       "      <td>Moscow</td>\n",
       "      <td>1</td>\n",
       "      <td>16.10.2021</td>\n",
       "    </tr>\n",
       "    <tr>\n",
       "      <th>2</th>\n",
       "      <td>24357607</td>\n",
       "      <td>1</td>\n",
       "      <td>Saint-Petersbourg</td>\n",
       "      <td>0</td>\n",
       "      <td>09.01.2021</td>\n",
       "    </tr>\n",
       "    <tr>\n",
       "      <th>3</th>\n",
       "      <td>24362041</td>\n",
       "      <td>0</td>\n",
       "      <td>Saint-Petersbourg</td>\n",
       "      <td>0</td>\n",
       "      <td>25.01.2020</td>\n",
       "    </tr>\n",
       "    <tr>\n",
       "      <th>4</th>\n",
       "      <td>24360773</td>\n",
       "      <td>1</td>\n",
       "      <td>Novosibirsk</td>\n",
       "      <td>0</td>\n",
       "      <td>03.04.2021</td>\n",
       "    </tr>\n",
       "    <tr>\n",
       "      <th>...</th>\n",
       "      <td>...</td>\n",
       "      <td>...</td>\n",
       "      <td>...</td>\n",
       "      <td>...</td>\n",
       "      <td>...</td>\n",
       "    </tr>\n",
       "    <tr>\n",
       "      <th>6389</th>\n",
       "      <td>24356990</td>\n",
       "      <td>1</td>\n",
       "      <td>Moscow</td>\n",
       "      <td>1</td>\n",
       "      <td>08.10.2021</td>\n",
       "    </tr>\n",
       "    <tr>\n",
       "      <th>6390</th>\n",
       "      <td>24359007</td>\n",
       "      <td>0</td>\n",
       "      <td>Novosibirsk</td>\n",
       "      <td>1</td>\n",
       "      <td>24.05.2021</td>\n",
       "    </tr>\n",
       "    <tr>\n",
       "      <th>6391</th>\n",
       "      <td>24362669</td>\n",
       "      <td>1</td>\n",
       "      <td>Moscow</td>\n",
       "      <td>0</td>\n",
       "      <td>20.05.2021</td>\n",
       "    </tr>\n",
       "    <tr>\n",
       "      <th>6392</th>\n",
       "      <td>24357547</td>\n",
       "      <td>0</td>\n",
       "      <td>Novosibirsk</td>\n",
       "      <td>0</td>\n",
       "      <td>13.01.2021</td>\n",
       "    </tr>\n",
       "    <tr>\n",
       "      <th>6393</th>\n",
       "      <td>24357024</td>\n",
       "      <td>0</td>\n",
       "      <td>Kazan</td>\n",
       "      <td>0</td>\n",
       "      <td>02.08.2021</td>\n",
       "    </tr>\n",
       "  </tbody>\n",
       "</table>\n",
       "<p>6394 rows × 5 columns</p>\n",
       "</div>"
      ],
      "text/plain": [
       "      id_client  id_group               city  nflag_purchase   time_came\n",
       "0      24360208         0             Moscow               1  21.10.2021\n",
       "1      24360925         1             Moscow               1  16.10.2021\n",
       "2      24357607         1  Saint-Petersbourg               0  09.01.2021\n",
       "3      24362041         0  Saint-Petersbourg               0  25.01.2020\n",
       "4      24360773         1        Novosibirsk               0  03.04.2021\n",
       "...         ...       ...                ...             ...         ...\n",
       "6389   24356990         1             Moscow               1  08.10.2021\n",
       "6390   24359007         0        Novosibirsk               1  24.05.2021\n",
       "6391   24362669         1             Moscow               0  20.05.2021\n",
       "6392   24357547         0        Novosibirsk               0  13.01.2021\n",
       "6393   24357024         0              Kazan               0  02.08.2021\n",
       "\n",
       "[6394 rows x 5 columns]"
      ]
     },
     "execution_count": 4,
     "metadata": {},
     "output_type": "execute_result"
    }
   ],
   "source": [
    "df"
   ]
  },
  {
   "cell_type": "markdown",
   "id": "d388433b",
   "metadata": {},
   "source": [
    "### Результаты АБ Теста по всему"
   ]
  },
  {
   "cell_type": "code",
   "execution_count": 10,
   "id": "6cc46401",
   "metadata": {},
   "outputs": [
    {
     "name": "stdout",
     "output_type": "stream",
     "text": [
      "2.4013624185110922\n",
      "0.01636252986305824\n"
     ]
    }
   ],
   "source": [
    "s, p = ttest_ind(df[df['id_group']==1]['nflag_purchase'], df[df['id_group']==0]['nflag_purchase'])\n",
    "print(s)\n",
    "print(p)"
   ]
  },
  {
   "cell_type": "markdown",
   "id": "5feb9e17",
   "metadata": {},
   "source": [
    "### Результаты АБ Теста по городам"
   ]
  },
  {
   "cell_type": "code",
   "execution_count": 11,
   "id": "7ae3c582",
   "metadata": {},
   "outputs": [],
   "source": [
    "df_msk = df[df['city']=='Moscow']\n",
    "df_spb = df[df['city']=='Saint-Petersbourg']\n",
    "df_kzn = df[df['city']=='Kazan']\n",
    "df_nvs = df[df['city']=='Novosibirsk']\n",
    "df_vdv = df[df['city']=='Vladivostok']"
   ]
  },
  {
   "cell_type": "code",
   "execution_count": 12,
   "id": "1ea1496e",
   "metadata": {},
   "outputs": [
    {
     "name": "stdout",
     "output_type": "stream",
     "text": [
      "0.8450837813559312\n",
      "0.3981571415772427\n"
     ]
    }
   ],
   "source": [
    "s, p = ttest_ind(df_msk[df_msk['id_group']==1]['nflag_purchase'], df_msk[df_msk['id_group']==0]['nflag_purchase'])\n",
    "print(s)\n",
    "print(p)"
   ]
  },
  {
   "cell_type": "code",
   "execution_count": 13,
   "id": "4272e959",
   "metadata": {},
   "outputs": [
    {
     "name": "stdout",
     "output_type": "stream",
     "text": [
      "1.6604718327634895\n",
      "0.09701308927385824\n"
     ]
    }
   ],
   "source": [
    "s, p = ttest_ind(df_spb[df_spb['id_group']==1]['nflag_purchase'], df_spb[df_spb['id_group']==0]['nflag_purchase'])\n",
    "print(s)\n",
    "print(p)"
   ]
  },
  {
   "cell_type": "code",
   "execution_count": 14,
   "id": "aa42c28e",
   "metadata": {},
   "outputs": [
    {
     "name": "stdout",
     "output_type": "stream",
     "text": [
      "0.5357666217562046\n",
      "0.592246594180279\n"
     ]
    }
   ],
   "source": [
    "s, p = ttest_ind(df_kzn[df_kzn['id_group']==1]['nflag_purchase'], df_kzn[df_kzn['id_group']==0]['nflag_purchase'])\n",
    "print(s)\n",
    "print(p)"
   ]
  },
  {
   "cell_type": "code",
   "execution_count": 15,
   "id": "f9f8f3e3",
   "metadata": {},
   "outputs": [
    {
     "name": "stdout",
     "output_type": "stream",
     "text": [
      "0.4978267258755046\n",
      "0.6186980029170557\n"
     ]
    }
   ],
   "source": [
    "s, p = ttest_ind(df_nvs[df_nvs['id_group']==1]['nflag_purchase'], df_nvs[df_nvs['id_group']==0]['nflag_purchase'])\n",
    "print(s)\n",
    "print(p)"
   ]
  },
  {
   "cell_type": "code",
   "execution_count": 16,
   "id": "46062d86",
   "metadata": {},
   "outputs": [
    {
     "name": "stdout",
     "output_type": "stream",
     "text": [
      "2.1734327152064643\n",
      "0.030257214768841512\n"
     ]
    }
   ],
   "source": [
    "s, p = ttest_ind(df_vdv[df_vdv['id_group']==1]['nflag_purchase'], df_vdv[df_vdv['id_group']==0]['nflag_purchase'])\n",
    "print(s)\n",
    "print(p)"
   ]
  },
  {
   "cell_type": "markdown",
   "id": "8b7de64b",
   "metadata": {},
   "source": [
    "### Результаты АБ Теста по годам регистрации"
   ]
  },
  {
   "cell_type": "code",
   "execution_count": 17,
   "id": "628266c1",
   "metadata": {},
   "outputs": [],
   "source": [
    "from datetime import datetime\n",
    "#df['time_came'] = datetime.strptime(df['time_came'], '%b %d %Y %I:%M%p')\n",
    "\n",
    "\n",
    "df['time_came'] = pd.to_datetime(df['time_came'])"
   ]
  },
  {
   "cell_type": "code",
   "execution_count": 18,
   "id": "14ef88a2",
   "metadata": {},
   "outputs": [],
   "source": [
    "df['year']=df['time_came'].dt.year"
   ]
  },
  {
   "cell_type": "code",
   "execution_count": 19,
   "id": "caf10b5c",
   "metadata": {},
   "outputs": [],
   "source": [
    "df_msk_2020 = df[(df['city']=='Moscow') & (df['year']==2020)]\n",
    "df_msk_2021 = df[(df['city']=='Moscow') & (df['year']==2021)]\n",
    "\n",
    "df_spb_2020 = df[(df['city']=='Saint-Petersbourg') & (df['year']==2020)]\n",
    "df_spb_2021 = df[(df['city']=='Saint-Petersbourg') & (df['year']==2021)]\n",
    "\n",
    "df_kzn_2020 = df[(df['city']=='Kazan') & (df['year']==2020)]\n",
    "df_kzn_2021 = df[(df['city']=='Kazan') & (df['year']==2021)]\n",
    "\n",
    "df_nvs_2020 = df[(df['city']=='Novosibirsk') & (df['year']==2020)]\n",
    "df_nvs_2021 = df[(df['city']=='Novosibirsk') & (df['year']==2021)]\n",
    "\n",
    "df_vdv_2020 = df[(df['city']=='Vladivostok') & (df['year']==2020)]\n",
    "df_vdv_2021 = df[(df['city']=='Vladivostok') & (df['year']==2021)]"
   ]
  },
  {
   "cell_type": "code",
   "execution_count": 20,
   "id": "6087a60c",
   "metadata": {},
   "outputs": [
    {
     "name": "stdout",
     "output_type": "stream",
     "text": [
      "0.3167701863354037\n",
      "0.2926829268292683\n",
      "0.6663258646086272\n",
      "0.5054399863130574\n"
     ]
    }
   ],
   "source": [
    "############## Москва 2020\n",
    "\n",
    "s, p = ttest_ind(df_msk_2020[df_msk_2020['id_group']==1]['nflag_purchase'], \n",
    "                 df_msk_2020[df_msk_2020['id_group']==0]['nflag_purchase'])\n",
    "\n",
    "print(df_msk_2020[df_msk_2020['id_group']==1]['nflag_purchase'].mean())\n",
    "print(df_msk_2020[df_msk_2020['id_group']==0]['nflag_purchase'].mean())\n",
    "\n",
    "print(s)\n",
    "print(p)"
   ]
  },
  {
   "cell_type": "code",
   "execution_count": 21,
   "id": "48a76e97",
   "metadata": {},
   "outputs": [
    {
     "name": "stdout",
     "output_type": "stream",
     "text": [
      "0.2801608579088472\n",
      "0.26735218508997427\n",
      "0.5603683900894895\n",
      "0.5753106595236979\n"
     ]
    }
   ],
   "source": [
    "############## Москва 2021\n",
    "\n",
    "s, p = ttest_ind(df_msk_2021[df_msk_2021['id_group']==1]['nflag_purchase'], \n",
    "                 df_msk_2021[df_msk_2021['id_group']==0]['nflag_purchase'])\n",
    "\n",
    "print(df_msk_2021[df_msk_2021['id_group']==1]['nflag_purchase'].mean())\n",
    "print(df_msk_2021[df_msk_2021['id_group']==0]['nflag_purchase'].mean())\n",
    "\n",
    "print(s)\n",
    "print(p)"
   ]
  },
  {
   "cell_type": "code",
   "execution_count": 22,
   "id": "f851641a",
   "metadata": {},
   "outputs": [
    {
     "name": "stdout",
     "output_type": "stream",
     "text": [
      "0.29927007299270075\n",
      "0.25925925925925924\n",
      "1.0648100022929947\n",
      "0.28741355911452665\n"
     ]
    }
   ],
   "source": [
    "############## Питер 2020\n",
    "\n",
    "s, p = ttest_ind(df_spb_2020[df_spb_2020['id_group']==1]['nflag_purchase'], \n",
    "                 df_spb_2020[df_spb_2020['id_group']==0]['nflag_purchase'])\n",
    "\n",
    "print(df_spb_2020[df_spb_2020['id_group']==1]['nflag_purchase'].mean())\n",
    "print(df_spb_2020[df_spb_2020['id_group']==0]['nflag_purchase'].mean())\n",
    "\n",
    "print(s)\n",
    "print(p)"
   ]
  },
  {
   "cell_type": "code",
   "execution_count": 23,
   "id": "8fc2f05b",
   "metadata": {},
   "outputs": [
    {
     "name": "stdout",
     "output_type": "stream",
     "text": [
      "0.28835489833641403\n",
      "0.2529411764705882\n",
      "1.2904782210001127\n",
      "0.19716903302230424\n"
     ]
    }
   ],
   "source": [
    "############## Питер 2021\n",
    "\n",
    "s, p = ttest_ind(df_spb_2021[df_spb_2021['id_group']==1]['nflag_purchase'], \n",
    "                 df_spb_2021[df_spb_2021['id_group']==0]['nflag_purchase'])\n",
    "\n",
    "print(df_spb_2021[df_spb_2021['id_group']==1]['nflag_purchase'].mean())\n",
    "print(df_spb_2021[df_spb_2021['id_group']==0]['nflag_purchase'].mean())\n",
    "\n",
    "print(s)\n",
    "print(p)"
   ]
  },
  {
   "cell_type": "code",
   "execution_count": 24,
   "id": "639d92f3",
   "metadata": {},
   "outputs": [
    {
     "name": "stdout",
     "output_type": "stream",
     "text": [
      "0.35611510791366907\n",
      "0.3305439330543933\n",
      "0.6091471183931282\n",
      "0.5426955440428094\n"
     ]
    }
   ],
   "source": [
    "############## Казань 2020\n",
    "\n",
    "s, p = ttest_ind(df_kzn_2020[df_kzn_2020['id_group']==1]['nflag_purchase'], \n",
    "                 df_kzn_2020[df_kzn_2020['id_group']==0]['nflag_purchase'])\n",
    "\n",
    "print(df_kzn_2020[df_kzn_2020['id_group']==1]['nflag_purchase'].mean())\n",
    "print(df_kzn_2020[df_kzn_2020['id_group']==0]['nflag_purchase'].mean())\n",
    "\n",
    "print(s)\n",
    "print(p)"
   ]
  },
  {
   "cell_type": "code",
   "execution_count": 25,
   "id": "76c85e85",
   "metadata": {},
   "outputs": [
    {
     "name": "stdout",
     "output_type": "stream",
     "text": [
      "0.32\n",
      "0.315\n",
      "0.11025208256715152\n",
      "0.9122617463673748\n"
     ]
    }
   ],
   "source": [
    "############## Казань 2021\n",
    "\n",
    "s, p = ttest_ind(df_kzn_2021[df_kzn_2021['id_group']==1]['nflag_purchase'], \n",
    "                 df_kzn_2021[df_kzn_2021['id_group']==0]['nflag_purchase'])\n",
    "\n",
    "print(df_kzn_2021[df_kzn_2021['id_group']==1]['nflag_purchase'].mean())\n",
    "print(df_kzn_2021[df_kzn_2021['id_group']==0]['nflag_purchase'].mean())\n",
    "\n",
    "print(s)\n",
    "print(p)"
   ]
  },
  {
   "cell_type": "code",
   "execution_count": 26,
   "id": "1caf4b24",
   "metadata": {},
   "outputs": [
    {
     "name": "stdout",
     "output_type": "stream",
     "text": [
      "0.29411764705882354\n",
      "0.2838983050847458\n",
      "0.24036968556132807\n",
      "0.8101519376946962\n"
     ]
    }
   ],
   "source": [
    "############## Новосибирск 2020\n",
    "\n",
    "s, p = ttest_ind(df_nvs_2020[df_nvs_2020['id_group']==1]['nflag_purchase'], \n",
    "                 df_nvs_2020[df_nvs_2020['id_group']==0]['nflag_purchase'])\n",
    "\n",
    "print(df_nvs_2020[df_nvs_2020['id_group']==1]['nflag_purchase'].mean())\n",
    "print(df_nvs_2020[df_nvs_2020['id_group']==0]['nflag_purchase'].mean())\n",
    "\n",
    "print(s)\n",
    "print(p)"
   ]
  },
  {
   "cell_type": "code",
   "execution_count": 27,
   "id": "8297fe13",
   "metadata": {},
   "outputs": [
    {
     "name": "stdout",
     "output_type": "stream",
     "text": [
      "0.2603092783505155\n",
      "0.24355300859598855\n",
      "0.5222733783307411\n",
      "0.6016373697833897\n"
     ]
    }
   ],
   "source": [
    "############## Новосибирск 2021\n",
    "\n",
    "s, p = ttest_ind(df_nvs_2021[df_nvs_2021['id_group']==1]['nflag_purchase'], \n",
    "                 df_nvs_2021[df_nvs_2021['id_group']==0]['nflag_purchase'])\n",
    "\n",
    "print(df_nvs_2021[df_nvs_2021['id_group']==1]['nflag_purchase'].mean())\n",
    "print(df_nvs_2021[df_nvs_2021['id_group']==0]['nflag_purchase'].mean())\n",
    "\n",
    "print(s)\n",
    "print(p)"
   ]
  },
  {
   "cell_type": "code",
   "execution_count": 28,
   "id": "51135ea6",
   "metadata": {},
   "outputs": [
    {
     "name": "stdout",
     "output_type": "stream",
     "text": [
      "0.44565217391304346\n",
      "0.24752475247524752\n",
      "2.9478353895151996\n",
      "0.0035991718341134645\n"
     ]
    }
   ],
   "source": [
    "############## Владивосток 2020\n",
    "\n",
    "s, p = ttest_ind(df_vdv_2020[df_vdv_2020['id_group']==1]['nflag_purchase'], \n",
    "                 df_vdv_2020[df_vdv_2020['id_group']==0]['nflag_purchase'])\n",
    "\n",
    "print(df_vdv_2020[df_vdv_2020['id_group']==1]['nflag_purchase'].mean())\n",
    "print(df_vdv_2020[df_vdv_2020['id_group']==0]['nflag_purchase'].mean())\n",
    "\n",
    "print(s)\n",
    "print(p)"
   ]
  },
  {
   "cell_type": "code",
   "execution_count": 29,
   "id": "7851394d",
   "metadata": {},
   "outputs": [
    {
     "name": "stdout",
     "output_type": "stream",
     "text": [
      "0.34558823529411764\n",
      "0.3233082706766917\n",
      "0.3858679356044035\n",
      "0.6999017522609832\n"
     ]
    }
   ],
   "source": [
    "############## Владивосток 2021\n",
    "\n",
    "s, p = ttest_ind(df_vdv_2021[df_vdv_2021['id_group']==1]['nflag_purchase'], \n",
    "                 df_vdv_2021[df_vdv_2021['id_group']==0]['nflag_purchase'])\n",
    "\n",
    "print(df_vdv_2021[df_vdv_2021['id_group']==1]['nflag_purchase'].mean())\n",
    "print(df_vdv_2021[df_vdv_2021['id_group']==0]['nflag_purchase'].mean())\n",
    "\n",
    "print(s)\n",
    "print(p)"
   ]
  },
  {
   "cell_type": "markdown",
   "id": "47442c4a",
   "metadata": {},
   "source": [
    "# Автоматизация"
   ]
  },
  {
   "cell_type": "code",
   "execution_count": 30,
   "id": "7bcf61b2",
   "metadata": {},
   "outputs": [],
   "source": [
    "def ab_test_calc(r1, r2):\n",
    "    \n",
    "    s, p = ttest_ind(r1, r2)\n",
    "    print(\"Среднее первого ряда = \", r1.mean())\n",
    "    print(\"Среднее второго ряда = \", r2.mean())\n",
    "    print()\n",
    "    print(\"Значение стат.критерия = \",s)\n",
    "    print(\"Значение p_value = \",p)\n",
    "    print()\n",
    "    return s,p"
   ]
  },
  {
   "cell_type": "code",
   "execution_count": 31,
   "id": "46c3fde7",
   "metadata": {
    "scrolled": true
   },
   "outputs": [
    {
     "name": "stdout",
     "output_type": "stream",
     "text": [
      "Moscow\n",
      "Среднее первого ряда =  0.29119850187265917\n",
      "Среднее второго ряда =  0.27486437613019893\n",
      "\n",
      "Значение стат.критерия =  0.8450837813559312\n",
      "Значение p_value =  0.3981571415772427\n",
      "\n",
      "\n",
      "Saint-Petersbourg\n",
      "Среднее первого ряда =  0.2920245398773006\n",
      "Среднее второго ряда =  0.2552664188351921\n",
      "\n",
      "Значение стат.критерия =  1.6604718327634895\n",
      "Значение p_value =  0.09701308927385824\n",
      "\n",
      "\n",
      "Novosibirsk\n",
      "Среднее первого ряда =  0.27257799671592775\n",
      "Среднее второго ряда =  0.25982905982905985\n",
      "\n",
      "Значение стат.критерия =  0.4978267258755046\n",
      "Значение p_value =  0.6186980029170557\n",
      "\n",
      "\n",
      "Kazan\n",
      "Среднее первого ряда =  0.3399602385685885\n",
      "Среднее второго ряда =  0.3234624145785877\n",
      "\n",
      "Значение стат.критерия =  0.5357666217562046\n",
      "Значение p_value =  0.592246594180279\n",
      "\n",
      "\n",
      "Vladivostok\n",
      "Среднее первого ряда =  0.38596491228070173\n",
      "Среднее второго ряда =  0.2905982905982906\n",
      "\n",
      "Значение стат.критерия =  2.1734327152064643\n",
      "Значение p_value =  0.030257214768841512\n",
      "\n",
      "\n"
     ]
    }
   ],
   "source": [
    "for i in df.city.unique():\n",
    "    \n",
    "    df_loc = df[df['city']==i]\n",
    "    print(i)\n",
    "    r1 = df_loc[df_loc['id_group']==1]['nflag_purchase']\n",
    "    r2 = df_loc[df_loc['id_group']==0]['nflag_purchase']\n",
    "    \n",
    "    ab_test_calc(r1, r2)\n",
    "    print()\n"
   ]
  },
  {
   "cell_type": "code",
   "execution_count": 266,
   "id": "be9b82c3",
   "metadata": {
    "scrolled": true
   },
   "outputs": [
    {
     "name": "stdout",
     "output_type": "stream",
     "text": [
      "Moscow\n",
      "2021\n",
      "Среднее первого ряда =  0.2801608579088472\n",
      "Среднее второго ряда =  0.26735218508997427\n",
      "\n",
      "Значение стат.критерия =  0.5603683900894895\n",
      "Значение p_value =  0.5753106595236979\n",
      "\n",
      "\n",
      "Moscow\n",
      "2020\n",
      "Среднее первого ряда =  0.3167701863354037\n",
      "Среднее второго ряда =  0.2926829268292683\n",
      "\n",
      "Значение стат.критерия =  0.6663258646086272\n",
      "Значение p_value =  0.5054399863130574\n",
      "\n",
      "\n",
      "Saint-Petersbourg\n",
      "2021\n",
      "Среднее первого ряда =  0.28835489833641403\n",
      "Среднее второго ряда =  0.2529411764705882\n",
      "\n",
      "Значение стат.критерия =  1.2904782210001127\n",
      "Значение p_value =  0.19716903302230424\n",
      "\n",
      "\n",
      "Saint-Petersbourg\n",
      "2020\n",
      "Среднее первого ряда =  0.29927007299270075\n",
      "Среднее второго ряда =  0.25925925925925924\n",
      "\n",
      "Значение стат.критерия =  1.0648100022929947\n",
      "Значение p_value =  0.28741355911452665\n",
      "\n",
      "\n",
      "Novosibirsk\n",
      "2021\n",
      "Среднее первого ряда =  0.2603092783505155\n",
      "Среднее второго ряда =  0.24355300859598855\n",
      "\n",
      "Значение стат.критерия =  0.5222733783307411\n",
      "Значение p_value =  0.6016373697833897\n",
      "\n",
      "\n",
      "Novosibirsk\n",
      "2020\n",
      "Среднее первого ряда =  0.29411764705882354\n",
      "Среднее второго ряда =  0.2838983050847458\n",
      "\n",
      "Значение стат.критерия =  0.24036968556132807\n",
      "Значение p_value =  0.8101519376946962\n",
      "\n",
      "\n",
      "Kazan\n",
      "2021\n",
      "Среднее первого ряда =  0.32\n",
      "Среднее второго ряда =  0.315\n",
      "\n",
      "Значение стат.критерия =  0.11025208256715152\n",
      "Значение p_value =  0.9122617463673748\n",
      "\n",
      "\n",
      "Kazan\n",
      "2020\n",
      "Среднее первого ряда =  0.35611510791366907\n",
      "Среднее второго ряда =  0.3305439330543933\n",
      "\n",
      "Значение стат.критерия =  0.6091471183931282\n",
      "Значение p_value =  0.5426955440428094\n",
      "\n",
      "\n",
      "Vladivostok\n",
      "2021\n",
      "Среднее первого ряда =  0.34558823529411764\n",
      "Среднее второго ряда =  0.3233082706766917\n",
      "\n",
      "Значение стат.критерия =  0.3858679356044035\n",
      "Значение p_value =  0.6999017522609832\n",
      "\n",
      "\n",
      "Vladivostok\n",
      "2020\n",
      "Среднее первого ряда =  0.44565217391304346\n",
      "Среднее второго ряда =  0.24752475247524752\n",
      "\n",
      "Значение стат.критерия =  2.9478353895151996\n",
      "Значение p_value =  0.0035991718341134645\n",
      "\n",
      "\n"
     ]
    }
   ],
   "source": [
    "for i in df.city.unique():\n",
    "    for j in df.year.unique():\n",
    "    \n",
    "        df_loc = df[(df['city']==i) & (df['year']==j)]\n",
    "        print(i)\n",
    "        print(j)\n",
    "        \n",
    "        r1 = df_loc[df_loc['id_group']==1]['nflag_purchase']\n",
    "        r2 = df_loc[df_loc['id_group']==0]['nflag_purchase']\n",
    "    \n",
    "        ab_test_calc(r1, r2)\n",
    "        print()\n"
   ]
  },
  {
   "cell_type": "code",
   "execution_count": null,
   "id": "c375cc84",
   "metadata": {},
   "outputs": [],
   "source": []
  }
 ],
 "metadata": {
  "kernelspec": {
   "display_name": "Python 3",
   "language": "python",
   "name": "python3"
  },
  "language_info": {
   "codemirror_mode": {
    "name": "ipython",
    "version": 3
   },
   "file_extension": ".py",
   "mimetype": "text/x-python",
   "name": "python",
   "nbconvert_exporter": "python",
   "pygments_lexer": "ipython3",
   "version": "3.8.8"
  }
 },
 "nbformat": 4,
 "nbformat_minor": 5
}
